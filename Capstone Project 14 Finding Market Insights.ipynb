{
 "cells": [
  {
   "cell_type": "code",
   "execution_count": 10,
   "id": "2663c912",
   "metadata": {},
   "outputs": [
    {
     "name": "stdout",
     "output_type": "stream",
     "text": [
      "Requirement already satisfied: mlxtend in c:\\users\\manus\\anaconda3\\lib\\site-packages (0.23.1)\n",
      "Requirement already satisfied: scipy>=1.2.1 in c:\\users\\manus\\anaconda3\\lib\\site-packages (from mlxtend) (1.11.1)\n",
      "Requirement already satisfied: numpy>=1.16.2 in c:\\users\\manus\\anaconda3\\lib\\site-packages (from mlxtend) (1.24.3)\n",
      "Requirement already satisfied: pandas>=0.24.2 in c:\\users\\manus\\anaconda3\\lib\\site-packages (from mlxtend) (2.0.3)\n",
      "Requirement already satisfied: scikit-learn>=1.0.2 in c:\\users\\manus\\anaconda3\\lib\\site-packages (from mlxtend) (1.3.0)\n",
      "Requirement already satisfied: matplotlib>=3.0.0 in c:\\users\\manus\\anaconda3\\lib\\site-packages (from mlxtend) (3.7.2)\n",
      "Requirement already satisfied: joblib>=0.13.2 in c:\\users\\manus\\anaconda3\\lib\\site-packages (from mlxtend) (1.2.0)\n",
      "Requirement already satisfied: contourpy>=1.0.1 in c:\\users\\manus\\anaconda3\\lib\\site-packages (from matplotlib>=3.0.0->mlxtend) (1.0.5)\n",
      "Requirement already satisfied: cycler>=0.10 in c:\\users\\manus\\anaconda3\\lib\\site-packages (from matplotlib>=3.0.0->mlxtend) (0.11.0)\n",
      "Requirement already satisfied: fonttools>=4.22.0 in c:\\users\\manus\\anaconda3\\lib\\site-packages (from matplotlib>=3.0.0->mlxtend) (4.25.0)\n",
      "Requirement already satisfied: kiwisolver>=1.0.1 in c:\\users\\manus\\anaconda3\\lib\\site-packages (from matplotlib>=3.0.0->mlxtend) (1.4.4)\n",
      "Requirement already satisfied: packaging>=20.0 in c:\\users\\manus\\anaconda3\\lib\\site-packages (from matplotlib>=3.0.0->mlxtend) (23.1)\n",
      "Requirement already satisfied: pillow>=6.2.0 in c:\\users\\manus\\anaconda3\\lib\\site-packages (from matplotlib>=3.0.0->mlxtend) (9.4.0)\n",
      "Requirement already satisfied: pyparsing<3.1,>=2.3.1 in c:\\users\\manus\\anaconda3\\lib\\site-packages (from matplotlib>=3.0.0->mlxtend) (3.0.9)\n",
      "Requirement already satisfied: python-dateutil>=2.7 in c:\\users\\manus\\anaconda3\\lib\\site-packages (from matplotlib>=3.0.0->mlxtend) (2.8.2)\n",
      "Requirement already satisfied: pytz>=2020.1 in c:\\users\\manus\\anaconda3\\lib\\site-packages (from pandas>=0.24.2->mlxtend) (2023.3.post1)\n",
      "Requirement already satisfied: tzdata>=2022.1 in c:\\users\\manus\\anaconda3\\lib\\site-packages (from pandas>=0.24.2->mlxtend) (2023.3)\n",
      "Requirement already satisfied: threadpoolctl>=2.0.0 in c:\\users\\manus\\anaconda3\\lib\\site-packages (from scikit-learn>=1.0.2->mlxtend) (2.2.0)\n",
      "Requirement already satisfied: six>=1.5 in c:\\users\\manus\\anaconda3\\lib\\site-packages (from python-dateutil>=2.7->matplotlib>=3.0.0->mlxtend) (1.16.0)\n",
      "Note: you may need to restart the kernel to use updated packages.\n"
     ]
    }
   ],
   "source": [
    "\n",
    "pip install mlxtend"
   ]
  },
  {
   "cell_type": "code",
   "execution_count": 11,
   "id": "336dbadd",
   "metadata": {},
   "outputs": [],
   "source": [
    "import pandas as pd\n",
    "import seaborn as sns\n",
    "import numpy as np\n",
    "import matplotlib.pyplot as plt\n",
    "import warnings\n",
    "warnings.filterwarnings('ignore')\n",
    "from sklearn.cluster import KMeans\n",
    "from sklearn.preprocessing import StandardScaler\n",
    "from sklearn.model_selection import train_test_split\n",
    "from sklearn.ensemble import RandomForestClassifier\n",
    "from sklearn.metrics import classification_report\n",
    "from mlxtend.frequent_patterns import apriori\n",
    "from mlxtend.frequent_patterns import association_rules"
   ]
  },
  {
   "cell_type": "code",
   "execution_count": 15,
   "id": "7a18df67",
   "metadata": {},
   "outputs": [],
   "source": [
    "online_sales = pd.read_csv(\"C://Users//manus//OneDrive//Analytixlabs//PG Certification in Data Science//4.0 TERM 02.2//14. Capstone Case Study - Findin//Reference//14.-Capstone-Case-Study-Finding-//14.-Capstone-Case-Study-Finding-Marketing-Insights//Online_Sales.csv\")\n"
   ]
  },
  {
   "cell_type": "code",
   "execution_count": 16,
   "id": "6f9895d2",
   "metadata": {},
   "outputs": [],
   "source": [
    "customers_data = pd.read_excel(\"C://Users//manus//OneDrive//Analytixlabs//PG Certification in Data Science//4.0 TERM 02.2//14. Capstone Case Study - Findin//Reference//14.-Capstone-Case-Study-Finding-//14.-Capstone-Case-Study-Finding-Marketing-Insights//CustomersData.xlsx\")\n"
   ]
  },
  {
   "cell_type": "code",
   "execution_count": 17,
   "id": "ba23a927",
   "metadata": {},
   "outputs": [],
   "source": [
    "discount_coupon = pd.read_csv(\"C://Users//manus//OneDrive//Analytixlabs//PG Certification in Data Science//4.0 TERM 02.2//14. Capstone Case Study - Findin//Reference//14.-Capstone-Case-Study-Finding-//14.-Capstone-Case-Study-Finding-Marketing-Insights//Discount_Coupon.csv\")\n"
   ]
  },
  {
   "cell_type": "code",
   "execution_count": 18,
   "id": "5e422616",
   "metadata": {},
   "outputs": [],
   "source": [
    "marketing_spend = pd.read_csv(\"C://Users//manus//OneDrive//Analytixlabs//PG Certification in Data Science//4.0 TERM 02.2//14. Capstone Case Study - Findin//Reference//14.-Capstone-Case-Study-Finding-//14.-Capstone-Case-Study-Finding-Marketing-Insights//Marketing_Spend.csv\")\n"
   ]
  },
  {
   "cell_type": "code",
   "execution_count": 19,
   "id": "0df8cc0b",
   "metadata": {},
   "outputs": [],
   "source": [
    "tax_amount = pd.read_excel(\"C://Users//manus//OneDrive//Analytixlabs//PG Certification in Data Science//4.0 TERM 02.2//14. Capstone Case Study - Findin//Reference//14.-Capstone-Case-Study-Finding-//14.-Capstone-Case-Study-Finding-Marketing-Insights//Tax_amount.xlsx\")"
   ]
  },
  {
   "cell_type": "code",
   "execution_count": 24,
   "id": "364ed2a9",
   "metadata": {},
   "outputs": [
    {
     "data": {
      "text/html": [
       "<div>\n",
       "<style scoped>\n",
       "    .dataframe tbody tr th:only-of-type {\n",
       "        vertical-align: middle;\n",
       "    }\n",
       "\n",
       "    .dataframe tbody tr th {\n",
       "        vertical-align: top;\n",
       "    }\n",
       "\n",
       "    .dataframe thead th {\n",
       "        text-align: right;\n",
       "    }\n",
       "</style>\n",
       "<table border=\"1\" class=\"dataframe\">\n",
       "  <thead>\n",
       "    <tr style=\"text-align: right;\">\n",
       "      <th></th>\n",
       "      <th>CustomerID</th>\n",
       "      <th>Transaction_ID</th>\n",
       "      <th>Transaction_Date</th>\n",
       "      <th>Product_SKU</th>\n",
       "      <th>Product_Description</th>\n",
       "      <th>Product_Category</th>\n",
       "      <th>Quantity</th>\n",
       "      <th>Avg_Price</th>\n",
       "      <th>Delivery_Charges</th>\n",
       "      <th>Coupon_Status</th>\n",
       "    </tr>\n",
       "  </thead>\n",
       "  <tbody>\n",
       "    <tr>\n",
       "      <th>0</th>\n",
       "      <td>17850</td>\n",
       "      <td>16679</td>\n",
       "      <td>20190101</td>\n",
       "      <td>GGOENEBJ079499</td>\n",
       "      <td>Nest Learning Thermostat 3rd Gen-USA - Stainle...</td>\n",
       "      <td>Nest-USA</td>\n",
       "      <td>1</td>\n",
       "      <td>153.71</td>\n",
       "      <td>6.5</td>\n",
       "      <td>Used</td>\n",
       "    </tr>\n",
       "    <tr>\n",
       "      <th>1</th>\n",
       "      <td>17850</td>\n",
       "      <td>16680</td>\n",
       "      <td>20190101</td>\n",
       "      <td>GGOENEBJ079499</td>\n",
       "      <td>Nest Learning Thermostat 3rd Gen-USA - Stainle...</td>\n",
       "      <td>Nest-USA</td>\n",
       "      <td>1</td>\n",
       "      <td>153.71</td>\n",
       "      <td>6.5</td>\n",
       "      <td>Used</td>\n",
       "    </tr>\n",
       "    <tr>\n",
       "      <th>2</th>\n",
       "      <td>17850</td>\n",
       "      <td>16681</td>\n",
       "      <td>20190101</td>\n",
       "      <td>GGOEGFKQ020399</td>\n",
       "      <td>Google Laptop and Cell Phone Stickers</td>\n",
       "      <td>Office</td>\n",
       "      <td>1</td>\n",
       "      <td>2.05</td>\n",
       "      <td>6.5</td>\n",
       "      <td>Used</td>\n",
       "    </tr>\n",
       "    <tr>\n",
       "      <th>3</th>\n",
       "      <td>17850</td>\n",
       "      <td>16682</td>\n",
       "      <td>20190101</td>\n",
       "      <td>GGOEGAAB010516</td>\n",
       "      <td>Google Men's 100% Cotton Short Sleeve Hero Tee...</td>\n",
       "      <td>Apparel</td>\n",
       "      <td>5</td>\n",
       "      <td>17.53</td>\n",
       "      <td>6.5</td>\n",
       "      <td>Not Used</td>\n",
       "    </tr>\n",
       "    <tr>\n",
       "      <th>4</th>\n",
       "      <td>17850</td>\n",
       "      <td>16682</td>\n",
       "      <td>20190101</td>\n",
       "      <td>GGOEGBJL013999</td>\n",
       "      <td>Google Canvas Tote Natural/Navy</td>\n",
       "      <td>Bags</td>\n",
       "      <td>1</td>\n",
       "      <td>16.50</td>\n",
       "      <td>6.5</td>\n",
       "      <td>Used</td>\n",
       "    </tr>\n",
       "  </tbody>\n",
       "</table>\n",
       "</div>"
      ],
      "text/plain": [
       "   CustomerID  Transaction_ID  Transaction_Date     Product_SKU  \\\n",
       "0       17850           16679          20190101  GGOENEBJ079499   \n",
       "1       17850           16680          20190101  GGOENEBJ079499   \n",
       "2       17850           16681          20190101  GGOEGFKQ020399   \n",
       "3       17850           16682          20190101  GGOEGAAB010516   \n",
       "4       17850           16682          20190101  GGOEGBJL013999   \n",
       "\n",
       "                                 Product_Description Product_Category  \\\n",
       "0  Nest Learning Thermostat 3rd Gen-USA - Stainle...         Nest-USA   \n",
       "1  Nest Learning Thermostat 3rd Gen-USA - Stainle...         Nest-USA   \n",
       "2              Google Laptop and Cell Phone Stickers           Office   \n",
       "3  Google Men's 100% Cotton Short Sleeve Hero Tee...          Apparel   \n",
       "4                    Google Canvas Tote Natural/Navy             Bags   \n",
       "\n",
       "   Quantity  Avg_Price  Delivery_Charges Coupon_Status  \n",
       "0         1     153.71               6.5          Used  \n",
       "1         1     153.71               6.5          Used  \n",
       "2         1       2.05               6.5          Used  \n",
       "3         5      17.53               6.5      Not Used  \n",
       "4         1      16.50               6.5          Used  "
      ]
     },
     "execution_count": 24,
     "metadata": {},
     "output_type": "execute_result"
    }
   ],
   "source": [
    "online_sales.head()"
   ]
  },
  {
   "cell_type": "code",
   "execution_count": 25,
   "id": "1d552df6",
   "metadata": {},
   "outputs": [
    {
     "data": {
      "text/html": [
       "<div>\n",
       "<style scoped>\n",
       "    .dataframe tbody tr th:only-of-type {\n",
       "        vertical-align: middle;\n",
       "    }\n",
       "\n",
       "    .dataframe tbody tr th {\n",
       "        vertical-align: top;\n",
       "    }\n",
       "\n",
       "    .dataframe thead th {\n",
       "        text-align: right;\n",
       "    }\n",
       "</style>\n",
       "<table border=\"1\" class=\"dataframe\">\n",
       "  <thead>\n",
       "    <tr style=\"text-align: right;\">\n",
       "      <th></th>\n",
       "      <th>CustomerID</th>\n",
       "      <th>Gender</th>\n",
       "      <th>Location</th>\n",
       "      <th>Tenure_Months</th>\n",
       "    </tr>\n",
       "  </thead>\n",
       "  <tbody>\n",
       "    <tr>\n",
       "      <th>0</th>\n",
       "      <td>17850</td>\n",
       "      <td>M</td>\n",
       "      <td>Chicago</td>\n",
       "      <td>12</td>\n",
       "    </tr>\n",
       "    <tr>\n",
       "      <th>1</th>\n",
       "      <td>13047</td>\n",
       "      <td>M</td>\n",
       "      <td>California</td>\n",
       "      <td>43</td>\n",
       "    </tr>\n",
       "    <tr>\n",
       "      <th>2</th>\n",
       "      <td>12583</td>\n",
       "      <td>M</td>\n",
       "      <td>Chicago</td>\n",
       "      <td>33</td>\n",
       "    </tr>\n",
       "    <tr>\n",
       "      <th>3</th>\n",
       "      <td>13748</td>\n",
       "      <td>F</td>\n",
       "      <td>California</td>\n",
       "      <td>30</td>\n",
       "    </tr>\n",
       "    <tr>\n",
       "      <th>4</th>\n",
       "      <td>15100</td>\n",
       "      <td>M</td>\n",
       "      <td>California</td>\n",
       "      <td>49</td>\n",
       "    </tr>\n",
       "  </tbody>\n",
       "</table>\n",
       "</div>"
      ],
      "text/plain": [
       "   CustomerID Gender    Location  Tenure_Months\n",
       "0       17850      M     Chicago             12\n",
       "1       13047      M  California             43\n",
       "2       12583      M     Chicago             33\n",
       "3       13748      F  California             30\n",
       "4       15100      M  California             49"
      ]
     },
     "execution_count": 25,
     "metadata": {},
     "output_type": "execute_result"
    }
   ],
   "source": [
    "customers_data.head()"
   ]
  },
  {
   "cell_type": "code",
   "execution_count": 26,
   "id": "7b65994d",
   "metadata": {},
   "outputs": [
    {
     "data": {
      "text/html": [
       "<div>\n",
       "<style scoped>\n",
       "    .dataframe tbody tr th:only-of-type {\n",
       "        vertical-align: middle;\n",
       "    }\n",
       "\n",
       "    .dataframe tbody tr th {\n",
       "        vertical-align: top;\n",
       "    }\n",
       "\n",
       "    .dataframe thead th {\n",
       "        text-align: right;\n",
       "    }\n",
       "</style>\n",
       "<table border=\"1\" class=\"dataframe\">\n",
       "  <thead>\n",
       "    <tr style=\"text-align: right;\">\n",
       "      <th></th>\n",
       "      <th>Month</th>\n",
       "      <th>Product_Category</th>\n",
       "      <th>Coupon_Code</th>\n",
       "      <th>Discount_pct</th>\n",
       "    </tr>\n",
       "  </thead>\n",
       "  <tbody>\n",
       "    <tr>\n",
       "      <th>0</th>\n",
       "      <td>Jan</td>\n",
       "      <td>Apparel</td>\n",
       "      <td>SALE10</td>\n",
       "      <td>10</td>\n",
       "    </tr>\n",
       "    <tr>\n",
       "      <th>1</th>\n",
       "      <td>Feb</td>\n",
       "      <td>Apparel</td>\n",
       "      <td>SALE20</td>\n",
       "      <td>20</td>\n",
       "    </tr>\n",
       "    <tr>\n",
       "      <th>2</th>\n",
       "      <td>Mar</td>\n",
       "      <td>Apparel</td>\n",
       "      <td>SALE30</td>\n",
       "      <td>30</td>\n",
       "    </tr>\n",
       "    <tr>\n",
       "      <th>3</th>\n",
       "      <td>Jan</td>\n",
       "      <td>Nest-USA</td>\n",
       "      <td>ELEC10</td>\n",
       "      <td>10</td>\n",
       "    </tr>\n",
       "    <tr>\n",
       "      <th>4</th>\n",
       "      <td>Feb</td>\n",
       "      <td>Nest-USA</td>\n",
       "      <td>ELEC20</td>\n",
       "      <td>20</td>\n",
       "    </tr>\n",
       "  </tbody>\n",
       "</table>\n",
       "</div>"
      ],
      "text/plain": [
       "  Month Product_Category Coupon_Code  Discount_pct\n",
       "0   Jan          Apparel      SALE10            10\n",
       "1   Feb          Apparel      SALE20            20\n",
       "2   Mar          Apparel      SALE30            30\n",
       "3   Jan         Nest-USA      ELEC10            10\n",
       "4   Feb         Nest-USA      ELEC20            20"
      ]
     },
     "execution_count": 26,
     "metadata": {},
     "output_type": "execute_result"
    }
   ],
   "source": [
    "discount_coupon.head()"
   ]
  },
  {
   "cell_type": "code",
   "execution_count": 28,
   "id": "c711d1d6",
   "metadata": {},
   "outputs": [],
   "source": [
    "discount_coupon.rename(columns={'Product_Category ': 'Product_Category'}, inplace=True)\n"
   ]
  },
  {
   "cell_type": "code",
   "execution_count": 29,
   "id": "f95b7b71",
   "metadata": {},
   "outputs": [
    {
     "data": {
      "text/html": [
       "<div>\n",
       "<style scoped>\n",
       "    .dataframe tbody tr th:only-of-type {\n",
       "        vertical-align: middle;\n",
       "    }\n",
       "\n",
       "    .dataframe tbody tr th {\n",
       "        vertical-align: top;\n",
       "    }\n",
       "\n",
       "    .dataframe thead th {\n",
       "        text-align: right;\n",
       "    }\n",
       "</style>\n",
       "<table border=\"1\" class=\"dataframe\">\n",
       "  <thead>\n",
       "    <tr style=\"text-align: right;\">\n",
       "      <th></th>\n",
       "      <th>Date</th>\n",
       "      <th>Offline_Spend</th>\n",
       "      <th>Online_Spend</th>\n",
       "    </tr>\n",
       "  </thead>\n",
       "  <tbody>\n",
       "    <tr>\n",
       "      <th>0</th>\n",
       "      <td>1/1/2019</td>\n",
       "      <td>4500</td>\n",
       "      <td>2424.50</td>\n",
       "    </tr>\n",
       "    <tr>\n",
       "      <th>1</th>\n",
       "      <td>1/2/2019</td>\n",
       "      <td>4500</td>\n",
       "      <td>3480.36</td>\n",
       "    </tr>\n",
       "    <tr>\n",
       "      <th>2</th>\n",
       "      <td>1/3/2019</td>\n",
       "      <td>4500</td>\n",
       "      <td>1576.38</td>\n",
       "    </tr>\n",
       "    <tr>\n",
       "      <th>3</th>\n",
       "      <td>1/4/2019</td>\n",
       "      <td>4500</td>\n",
       "      <td>2928.55</td>\n",
       "    </tr>\n",
       "    <tr>\n",
       "      <th>4</th>\n",
       "      <td>1/5/2019</td>\n",
       "      <td>4500</td>\n",
       "      <td>4055.30</td>\n",
       "    </tr>\n",
       "  </tbody>\n",
       "</table>\n",
       "</div>"
      ],
      "text/plain": [
       "       Date  Offline_Spend  Online_Spend\n",
       "0  1/1/2019           4500       2424.50\n",
       "1  1/2/2019           4500       3480.36\n",
       "2  1/3/2019           4500       1576.38\n",
       "3  1/4/2019           4500       2928.55\n",
       "4  1/5/2019           4500       4055.30"
      ]
     },
     "execution_count": 29,
     "metadata": {},
     "output_type": "execute_result"
    }
   ],
   "source": [
    "marketing_spend.head()"
   ]
  },
  {
   "cell_type": "code",
   "execution_count": 30,
   "id": "49cc603c",
   "metadata": {},
   "outputs": [],
   "source": [
    "marketing_spend['Date'] = pd.to_datetime(marketing_spend['Date'])"
   ]
  },
  {
   "cell_type": "code",
   "execution_count": 31,
   "id": "5a1eaad0",
   "metadata": {},
   "outputs": [
    {
     "data": {
      "text/html": [
       "<div>\n",
       "<style scoped>\n",
       "    .dataframe tbody tr th:only-of-type {\n",
       "        vertical-align: middle;\n",
       "    }\n",
       "\n",
       "    .dataframe tbody tr th {\n",
       "        vertical-align: top;\n",
       "    }\n",
       "\n",
       "    .dataframe thead th {\n",
       "        text-align: right;\n",
       "    }\n",
       "</style>\n",
       "<table border=\"1\" class=\"dataframe\">\n",
       "  <thead>\n",
       "    <tr style=\"text-align: right;\">\n",
       "      <th></th>\n",
       "      <th>Product_Category</th>\n",
       "      <th>GST</th>\n",
       "    </tr>\n",
       "  </thead>\n",
       "  <tbody>\n",
       "    <tr>\n",
       "      <th>0</th>\n",
       "      <td>Nest-USA</td>\n",
       "      <td>0.10</td>\n",
       "    </tr>\n",
       "    <tr>\n",
       "      <th>1</th>\n",
       "      <td>Office</td>\n",
       "      <td>0.10</td>\n",
       "    </tr>\n",
       "    <tr>\n",
       "      <th>2</th>\n",
       "      <td>Apparel</td>\n",
       "      <td>0.18</td>\n",
       "    </tr>\n",
       "    <tr>\n",
       "      <th>3</th>\n",
       "      <td>Bags</td>\n",
       "      <td>0.18</td>\n",
       "    </tr>\n",
       "    <tr>\n",
       "      <th>4</th>\n",
       "      <td>Drinkware</td>\n",
       "      <td>0.18</td>\n",
       "    </tr>\n",
       "  </tbody>\n",
       "</table>\n",
       "</div>"
      ],
      "text/plain": [
       "  Product_Category   GST\n",
       "0         Nest-USA  0.10\n",
       "1           Office  0.10\n",
       "2          Apparel  0.18\n",
       "3             Bags  0.18\n",
       "4        Drinkware  0.18"
      ]
     },
     "execution_count": 31,
     "metadata": {},
     "output_type": "execute_result"
    }
   ],
   "source": [
    "tax_amount.head()"
   ]
  },
  {
   "cell_type": "code",
   "execution_count": 32,
   "id": "25b2c744",
   "metadata": {},
   "outputs": [],
   "source": [
    "merged_data = pd.merge(online_sales, customers_data, on=\"CustomerID\", how=\"left\")"
   ]
  },
  {
   "cell_type": "code",
   "execution_count": 33,
   "id": "035cbd00",
   "metadata": {},
   "outputs": [],
   "source": [
    "merged_data = pd.merge(merged_data, tax_amount, on=\"Product_Category\", how=\"left\")"
   ]
  },
  {
   "cell_type": "code",
   "execution_count": 34,
   "id": "3449f96c",
   "metadata": {},
   "outputs": [],
   "source": [
    "merged_data = pd.merge(merged_data, discount_coupon, on=\"Product_Category\", how=\"left\")"
   ]
  },
  {
   "cell_type": "code",
   "execution_count": 36,
   "id": "2a59e056",
   "metadata": {},
   "outputs": [
    {
     "data": {
      "text/html": [
       "<div>\n",
       "<style scoped>\n",
       "    .dataframe tbody tr th:only-of-type {\n",
       "        vertical-align: middle;\n",
       "    }\n",
       "\n",
       "    .dataframe tbody tr th {\n",
       "        vertical-align: top;\n",
       "    }\n",
       "\n",
       "    .dataframe thead th {\n",
       "        text-align: right;\n",
       "    }\n",
       "</style>\n",
       "<table border=\"1\" class=\"dataframe\">\n",
       "  <thead>\n",
       "    <tr style=\"text-align: right;\">\n",
       "      <th></th>\n",
       "      <th>CustomerID</th>\n",
       "      <th>Transaction_ID</th>\n",
       "      <th>Transaction_Date</th>\n",
       "      <th>Product_SKU</th>\n",
       "      <th>Product_Description</th>\n",
       "      <th>Product_Category</th>\n",
       "      <th>Quantity</th>\n",
       "      <th>Avg_Price</th>\n",
       "      <th>Delivery_Charges</th>\n",
       "      <th>Coupon_Status</th>\n",
       "      <th>Gender</th>\n",
       "      <th>Location</th>\n",
       "      <th>Tenure_Months</th>\n",
       "      <th>GST</th>\n",
       "      <th>Month</th>\n",
       "      <th>Coupon_Code</th>\n",
       "      <th>Discount_pct</th>\n",
       "    </tr>\n",
       "  </thead>\n",
       "  <tbody>\n",
       "    <tr>\n",
       "      <th>0</th>\n",
       "      <td>17850</td>\n",
       "      <td>16679</td>\n",
       "      <td>20190101</td>\n",
       "      <td>GGOENEBJ079499</td>\n",
       "      <td>Nest Learning Thermostat 3rd Gen-USA - Stainle...</td>\n",
       "      <td>Nest-USA</td>\n",
       "      <td>1</td>\n",
       "      <td>153.71</td>\n",
       "      <td>6.5</td>\n",
       "      <td>Used</td>\n",
       "      <td>M</td>\n",
       "      <td>Chicago</td>\n",
       "      <td>12</td>\n",
       "      <td>0.1</td>\n",
       "      <td>Jan</td>\n",
       "      <td>ELEC10</td>\n",
       "      <td>10.0</td>\n",
       "    </tr>\n",
       "    <tr>\n",
       "      <th>1</th>\n",
       "      <td>17850</td>\n",
       "      <td>16679</td>\n",
       "      <td>20190101</td>\n",
       "      <td>GGOENEBJ079499</td>\n",
       "      <td>Nest Learning Thermostat 3rd Gen-USA - Stainle...</td>\n",
       "      <td>Nest-USA</td>\n",
       "      <td>1</td>\n",
       "      <td>153.71</td>\n",
       "      <td>6.5</td>\n",
       "      <td>Used</td>\n",
       "      <td>M</td>\n",
       "      <td>Chicago</td>\n",
       "      <td>12</td>\n",
       "      <td>0.1</td>\n",
       "      <td>Feb</td>\n",
       "      <td>ELEC20</td>\n",
       "      <td>20.0</td>\n",
       "    </tr>\n",
       "    <tr>\n",
       "      <th>2</th>\n",
       "      <td>17850</td>\n",
       "      <td>16679</td>\n",
       "      <td>20190101</td>\n",
       "      <td>GGOENEBJ079499</td>\n",
       "      <td>Nest Learning Thermostat 3rd Gen-USA - Stainle...</td>\n",
       "      <td>Nest-USA</td>\n",
       "      <td>1</td>\n",
       "      <td>153.71</td>\n",
       "      <td>6.5</td>\n",
       "      <td>Used</td>\n",
       "      <td>M</td>\n",
       "      <td>Chicago</td>\n",
       "      <td>12</td>\n",
       "      <td>0.1</td>\n",
       "      <td>Mar</td>\n",
       "      <td>ELEC30</td>\n",
       "      <td>30.0</td>\n",
       "    </tr>\n",
       "    <tr>\n",
       "      <th>3</th>\n",
       "      <td>17850</td>\n",
       "      <td>16679</td>\n",
       "      <td>20190101</td>\n",
       "      <td>GGOENEBJ079499</td>\n",
       "      <td>Nest Learning Thermostat 3rd Gen-USA - Stainle...</td>\n",
       "      <td>Nest-USA</td>\n",
       "      <td>1</td>\n",
       "      <td>153.71</td>\n",
       "      <td>6.5</td>\n",
       "      <td>Used</td>\n",
       "      <td>M</td>\n",
       "      <td>Chicago</td>\n",
       "      <td>12</td>\n",
       "      <td>0.1</td>\n",
       "      <td>Apr</td>\n",
       "      <td>ELEC10</td>\n",
       "      <td>10.0</td>\n",
       "    </tr>\n",
       "    <tr>\n",
       "      <th>4</th>\n",
       "      <td>17850</td>\n",
       "      <td>16679</td>\n",
       "      <td>20190101</td>\n",
       "      <td>GGOENEBJ079499</td>\n",
       "      <td>Nest Learning Thermostat 3rd Gen-USA - Stainle...</td>\n",
       "      <td>Nest-USA</td>\n",
       "      <td>1</td>\n",
       "      <td>153.71</td>\n",
       "      <td>6.5</td>\n",
       "      <td>Used</td>\n",
       "      <td>M</td>\n",
       "      <td>Chicago</td>\n",
       "      <td>12</td>\n",
       "      <td>0.1</td>\n",
       "      <td>May</td>\n",
       "      <td>ELEC20</td>\n",
       "      <td>20.0</td>\n",
       "    </tr>\n",
       "  </tbody>\n",
       "</table>\n",
       "</div>"
      ],
      "text/plain": [
       "   CustomerID  Transaction_ID  Transaction_Date     Product_SKU  \\\n",
       "0       17850           16679          20190101  GGOENEBJ079499   \n",
       "1       17850           16679          20190101  GGOENEBJ079499   \n",
       "2       17850           16679          20190101  GGOENEBJ079499   \n",
       "3       17850           16679          20190101  GGOENEBJ079499   \n",
       "4       17850           16679          20190101  GGOENEBJ079499   \n",
       "\n",
       "                                 Product_Description Product_Category  \\\n",
       "0  Nest Learning Thermostat 3rd Gen-USA - Stainle...         Nest-USA   \n",
       "1  Nest Learning Thermostat 3rd Gen-USA - Stainle...         Nest-USA   \n",
       "2  Nest Learning Thermostat 3rd Gen-USA - Stainle...         Nest-USA   \n",
       "3  Nest Learning Thermostat 3rd Gen-USA - Stainle...         Nest-USA   \n",
       "4  Nest Learning Thermostat 3rd Gen-USA - Stainle...         Nest-USA   \n",
       "\n",
       "   Quantity  Avg_Price  Delivery_Charges Coupon_Status Gender Location  \\\n",
       "0         1     153.71               6.5          Used      M  Chicago   \n",
       "1         1     153.71               6.5          Used      M  Chicago   \n",
       "2         1     153.71               6.5          Used      M  Chicago   \n",
       "3         1     153.71               6.5          Used      M  Chicago   \n",
       "4         1     153.71               6.5          Used      M  Chicago   \n",
       "\n",
       "   Tenure_Months  GST Month Coupon_Code  Discount_pct  \n",
       "0             12  0.1   Jan      ELEC10          10.0  \n",
       "1             12  0.1   Feb      ELEC20          20.0  \n",
       "2             12  0.1   Mar      ELEC30          30.0  \n",
       "3             12  0.1   Apr      ELEC10          10.0  \n",
       "4             12  0.1   May      ELEC20          20.0  "
      ]
     },
     "execution_count": 36,
     "metadata": {},
     "output_type": "execute_result"
    }
   ],
   "source": [
    "merged_data.head()"
   ]
  },
  {
   "cell_type": "code",
   "execution_count": 37,
   "id": "a31593f0",
   "metadata": {},
   "outputs": [],
   "source": [
    "\n",
    "# Convert to datetime format\n",
    "merged_data['Transaction_Date'] = pd.to_datetime(merged_data['Transaction_Date'], format='%Y%m%d')\n",
    "\n"
   ]
  },
  {
   "cell_type": "code",
   "execution_count": 38,
   "id": "888dd214",
   "metadata": {},
   "outputs": [
    {
     "data": {
      "text/html": [
       "<div>\n",
       "<style scoped>\n",
       "    .dataframe tbody tr th:only-of-type {\n",
       "        vertical-align: middle;\n",
       "    }\n",
       "\n",
       "    .dataframe tbody tr th {\n",
       "        vertical-align: top;\n",
       "    }\n",
       "\n",
       "    .dataframe thead th {\n",
       "        text-align: right;\n",
       "    }\n",
       "</style>\n",
       "<table border=\"1\" class=\"dataframe\">\n",
       "  <thead>\n",
       "    <tr style=\"text-align: right;\">\n",
       "      <th></th>\n",
       "      <th>CustomerID</th>\n",
       "      <th>Transaction_ID</th>\n",
       "      <th>Transaction_Date</th>\n",
       "      <th>Product_SKU</th>\n",
       "      <th>Product_Description</th>\n",
       "      <th>Product_Category</th>\n",
       "      <th>Quantity</th>\n",
       "      <th>Avg_Price</th>\n",
       "      <th>Delivery_Charges</th>\n",
       "      <th>Coupon_Status</th>\n",
       "      <th>Gender</th>\n",
       "      <th>Location</th>\n",
       "      <th>Tenure_Months</th>\n",
       "      <th>GST</th>\n",
       "      <th>Month</th>\n",
       "      <th>Coupon_Code</th>\n",
       "      <th>Discount_pct</th>\n",
       "    </tr>\n",
       "  </thead>\n",
       "  <tbody>\n",
       "    <tr>\n",
       "      <th>0</th>\n",
       "      <td>17850</td>\n",
       "      <td>16679</td>\n",
       "      <td>2019-01-01</td>\n",
       "      <td>GGOENEBJ079499</td>\n",
       "      <td>Nest Learning Thermostat 3rd Gen-USA - Stainle...</td>\n",
       "      <td>Nest-USA</td>\n",
       "      <td>1</td>\n",
       "      <td>153.71</td>\n",
       "      <td>6.5</td>\n",
       "      <td>Used</td>\n",
       "      <td>M</td>\n",
       "      <td>Chicago</td>\n",
       "      <td>12</td>\n",
       "      <td>0.1</td>\n",
       "      <td>Jan</td>\n",
       "      <td>ELEC10</td>\n",
       "      <td>10.0</td>\n",
       "    </tr>\n",
       "    <tr>\n",
       "      <th>1</th>\n",
       "      <td>17850</td>\n",
       "      <td>16679</td>\n",
       "      <td>2019-01-01</td>\n",
       "      <td>GGOENEBJ079499</td>\n",
       "      <td>Nest Learning Thermostat 3rd Gen-USA - Stainle...</td>\n",
       "      <td>Nest-USA</td>\n",
       "      <td>1</td>\n",
       "      <td>153.71</td>\n",
       "      <td>6.5</td>\n",
       "      <td>Used</td>\n",
       "      <td>M</td>\n",
       "      <td>Chicago</td>\n",
       "      <td>12</td>\n",
       "      <td>0.1</td>\n",
       "      <td>Feb</td>\n",
       "      <td>ELEC20</td>\n",
       "      <td>20.0</td>\n",
       "    </tr>\n",
       "    <tr>\n",
       "      <th>2</th>\n",
       "      <td>17850</td>\n",
       "      <td>16679</td>\n",
       "      <td>2019-01-01</td>\n",
       "      <td>GGOENEBJ079499</td>\n",
       "      <td>Nest Learning Thermostat 3rd Gen-USA - Stainle...</td>\n",
       "      <td>Nest-USA</td>\n",
       "      <td>1</td>\n",
       "      <td>153.71</td>\n",
       "      <td>6.5</td>\n",
       "      <td>Used</td>\n",
       "      <td>M</td>\n",
       "      <td>Chicago</td>\n",
       "      <td>12</td>\n",
       "      <td>0.1</td>\n",
       "      <td>Mar</td>\n",
       "      <td>ELEC30</td>\n",
       "      <td>30.0</td>\n",
       "    </tr>\n",
       "    <tr>\n",
       "      <th>3</th>\n",
       "      <td>17850</td>\n",
       "      <td>16679</td>\n",
       "      <td>2019-01-01</td>\n",
       "      <td>GGOENEBJ079499</td>\n",
       "      <td>Nest Learning Thermostat 3rd Gen-USA - Stainle...</td>\n",
       "      <td>Nest-USA</td>\n",
       "      <td>1</td>\n",
       "      <td>153.71</td>\n",
       "      <td>6.5</td>\n",
       "      <td>Used</td>\n",
       "      <td>M</td>\n",
       "      <td>Chicago</td>\n",
       "      <td>12</td>\n",
       "      <td>0.1</td>\n",
       "      <td>Apr</td>\n",
       "      <td>ELEC10</td>\n",
       "      <td>10.0</td>\n",
       "    </tr>\n",
       "    <tr>\n",
       "      <th>4</th>\n",
       "      <td>17850</td>\n",
       "      <td>16679</td>\n",
       "      <td>2019-01-01</td>\n",
       "      <td>GGOENEBJ079499</td>\n",
       "      <td>Nest Learning Thermostat 3rd Gen-USA - Stainle...</td>\n",
       "      <td>Nest-USA</td>\n",
       "      <td>1</td>\n",
       "      <td>153.71</td>\n",
       "      <td>6.5</td>\n",
       "      <td>Used</td>\n",
       "      <td>M</td>\n",
       "      <td>Chicago</td>\n",
       "      <td>12</td>\n",
       "      <td>0.1</td>\n",
       "      <td>May</td>\n",
       "      <td>ELEC20</td>\n",
       "      <td>20.0</td>\n",
       "    </tr>\n",
       "  </tbody>\n",
       "</table>\n",
       "</div>"
      ],
      "text/plain": [
       "   CustomerID  Transaction_ID Transaction_Date     Product_SKU  \\\n",
       "0       17850           16679       2019-01-01  GGOENEBJ079499   \n",
       "1       17850           16679       2019-01-01  GGOENEBJ079499   \n",
       "2       17850           16679       2019-01-01  GGOENEBJ079499   \n",
       "3       17850           16679       2019-01-01  GGOENEBJ079499   \n",
       "4       17850           16679       2019-01-01  GGOENEBJ079499   \n",
       "\n",
       "                                 Product_Description Product_Category  \\\n",
       "0  Nest Learning Thermostat 3rd Gen-USA - Stainle...         Nest-USA   \n",
       "1  Nest Learning Thermostat 3rd Gen-USA - Stainle...         Nest-USA   \n",
       "2  Nest Learning Thermostat 3rd Gen-USA - Stainle...         Nest-USA   \n",
       "3  Nest Learning Thermostat 3rd Gen-USA - Stainle...         Nest-USA   \n",
       "4  Nest Learning Thermostat 3rd Gen-USA - Stainle...         Nest-USA   \n",
       "\n",
       "   Quantity  Avg_Price  Delivery_Charges Coupon_Status Gender Location  \\\n",
       "0         1     153.71               6.5          Used      M  Chicago   \n",
       "1         1     153.71               6.5          Used      M  Chicago   \n",
       "2         1     153.71               6.5          Used      M  Chicago   \n",
       "3         1     153.71               6.5          Used      M  Chicago   \n",
       "4         1     153.71               6.5          Used      M  Chicago   \n",
       "\n",
       "   Tenure_Months  GST Month Coupon_Code  Discount_pct  \n",
       "0             12  0.1   Jan      ELEC10          10.0  \n",
       "1             12  0.1   Feb      ELEC20          20.0  \n",
       "2             12  0.1   Mar      ELEC30          30.0  \n",
       "3             12  0.1   Apr      ELEC10          10.0  \n",
       "4             12  0.1   May      ELEC20          20.0  "
      ]
     },
     "execution_count": 38,
     "metadata": {},
     "output_type": "execute_result"
    }
   ],
   "source": [
    "merged_data.head()"
   ]
  },
  {
   "cell_type": "code",
   "execution_count": 39,
   "id": "36cb7f62",
   "metadata": {},
   "outputs": [],
   "source": [
    "merged_data['Transaction_month']=merged_data[\"Transaction_Date\"].dt.month\n"
   ]
  },
  {
   "cell_type": "code",
   "execution_count": 40,
   "id": "f79cc303",
   "metadata": {},
   "outputs": [
    {
     "data": {
      "text/plain": [
       "Transaction_month\n",
       "8     73382\n",
       "7     62407\n",
       "5     54248\n",
       "12    54024\n",
       "3     51536\n",
       "9     51291\n",
       "6     49942\n",
       "10    49847\n",
       "4     49228\n",
       "1     48316\n",
       "11    47488\n",
       "2     38979\n",
       "Name: count, dtype: int64"
      ]
     },
     "execution_count": 40,
     "metadata": {},
     "output_type": "execute_result"
    }
   ],
   "source": [
    "merged_data['Transaction_month'].value_counts()"
   ]
  },
  {
   "cell_type": "code",
   "execution_count": 41,
   "id": "9587b62a",
   "metadata": {},
   "outputs": [],
   "source": [
    "merged_data = pd.merge(merged_data, marketing_spend, left_on='Transaction_Date', right_on='Date', how='left')"
   ]
  },
  {
   "cell_type": "code",
   "execution_count": 42,
   "id": "f308f1f9",
   "metadata": {},
   "outputs": [
    {
     "data": {
      "text/html": [
       "<div>\n",
       "<style scoped>\n",
       "    .dataframe tbody tr th:only-of-type {\n",
       "        vertical-align: middle;\n",
       "    }\n",
       "\n",
       "    .dataframe tbody tr th {\n",
       "        vertical-align: top;\n",
       "    }\n",
       "\n",
       "    .dataframe thead th {\n",
       "        text-align: right;\n",
       "    }\n",
       "</style>\n",
       "<table border=\"1\" class=\"dataframe\">\n",
       "  <thead>\n",
       "    <tr style=\"text-align: right;\">\n",
       "      <th></th>\n",
       "      <th>CustomerID</th>\n",
       "      <th>Transaction_ID</th>\n",
       "      <th>Transaction_Date</th>\n",
       "      <th>Product_SKU</th>\n",
       "      <th>Product_Description</th>\n",
       "      <th>Product_Category</th>\n",
       "      <th>Quantity</th>\n",
       "      <th>Avg_Price</th>\n",
       "      <th>Delivery_Charges</th>\n",
       "      <th>Coupon_Status</th>\n",
       "      <th>...</th>\n",
       "      <th>Location</th>\n",
       "      <th>Tenure_Months</th>\n",
       "      <th>GST</th>\n",
       "      <th>Month</th>\n",
       "      <th>Coupon_Code</th>\n",
       "      <th>Discount_pct</th>\n",
       "      <th>Transaction_month</th>\n",
       "      <th>Date</th>\n",
       "      <th>Offline_Spend</th>\n",
       "      <th>Online_Spend</th>\n",
       "    </tr>\n",
       "  </thead>\n",
       "  <tbody>\n",
       "    <tr>\n",
       "      <th>0</th>\n",
       "      <td>17850</td>\n",
       "      <td>16679</td>\n",
       "      <td>2019-01-01</td>\n",
       "      <td>GGOENEBJ079499</td>\n",
       "      <td>Nest Learning Thermostat 3rd Gen-USA - Stainle...</td>\n",
       "      <td>Nest-USA</td>\n",
       "      <td>1</td>\n",
       "      <td>153.71</td>\n",
       "      <td>6.5</td>\n",
       "      <td>Used</td>\n",
       "      <td>...</td>\n",
       "      <td>Chicago</td>\n",
       "      <td>12</td>\n",
       "      <td>0.1</td>\n",
       "      <td>Jan</td>\n",
       "      <td>ELEC10</td>\n",
       "      <td>10.0</td>\n",
       "      <td>1</td>\n",
       "      <td>2019-01-01</td>\n",
       "      <td>4500</td>\n",
       "      <td>2424.5</td>\n",
       "    </tr>\n",
       "    <tr>\n",
       "      <th>1</th>\n",
       "      <td>17850</td>\n",
       "      <td>16679</td>\n",
       "      <td>2019-01-01</td>\n",
       "      <td>GGOENEBJ079499</td>\n",
       "      <td>Nest Learning Thermostat 3rd Gen-USA - Stainle...</td>\n",
       "      <td>Nest-USA</td>\n",
       "      <td>1</td>\n",
       "      <td>153.71</td>\n",
       "      <td>6.5</td>\n",
       "      <td>Used</td>\n",
       "      <td>...</td>\n",
       "      <td>Chicago</td>\n",
       "      <td>12</td>\n",
       "      <td>0.1</td>\n",
       "      <td>Feb</td>\n",
       "      <td>ELEC20</td>\n",
       "      <td>20.0</td>\n",
       "      <td>1</td>\n",
       "      <td>2019-01-01</td>\n",
       "      <td>4500</td>\n",
       "      <td>2424.5</td>\n",
       "    </tr>\n",
       "    <tr>\n",
       "      <th>2</th>\n",
       "      <td>17850</td>\n",
       "      <td>16679</td>\n",
       "      <td>2019-01-01</td>\n",
       "      <td>GGOENEBJ079499</td>\n",
       "      <td>Nest Learning Thermostat 3rd Gen-USA - Stainle...</td>\n",
       "      <td>Nest-USA</td>\n",
       "      <td>1</td>\n",
       "      <td>153.71</td>\n",
       "      <td>6.5</td>\n",
       "      <td>Used</td>\n",
       "      <td>...</td>\n",
       "      <td>Chicago</td>\n",
       "      <td>12</td>\n",
       "      <td>0.1</td>\n",
       "      <td>Mar</td>\n",
       "      <td>ELEC30</td>\n",
       "      <td>30.0</td>\n",
       "      <td>1</td>\n",
       "      <td>2019-01-01</td>\n",
       "      <td>4500</td>\n",
       "      <td>2424.5</td>\n",
       "    </tr>\n",
       "    <tr>\n",
       "      <th>3</th>\n",
       "      <td>17850</td>\n",
       "      <td>16679</td>\n",
       "      <td>2019-01-01</td>\n",
       "      <td>GGOENEBJ079499</td>\n",
       "      <td>Nest Learning Thermostat 3rd Gen-USA - Stainle...</td>\n",
       "      <td>Nest-USA</td>\n",
       "      <td>1</td>\n",
       "      <td>153.71</td>\n",
       "      <td>6.5</td>\n",
       "      <td>Used</td>\n",
       "      <td>...</td>\n",
       "      <td>Chicago</td>\n",
       "      <td>12</td>\n",
       "      <td>0.1</td>\n",
       "      <td>Apr</td>\n",
       "      <td>ELEC10</td>\n",
       "      <td>10.0</td>\n",
       "      <td>1</td>\n",
       "      <td>2019-01-01</td>\n",
       "      <td>4500</td>\n",
       "      <td>2424.5</td>\n",
       "    </tr>\n",
       "    <tr>\n",
       "      <th>4</th>\n",
       "      <td>17850</td>\n",
       "      <td>16679</td>\n",
       "      <td>2019-01-01</td>\n",
       "      <td>GGOENEBJ079499</td>\n",
       "      <td>Nest Learning Thermostat 3rd Gen-USA - Stainle...</td>\n",
       "      <td>Nest-USA</td>\n",
       "      <td>1</td>\n",
       "      <td>153.71</td>\n",
       "      <td>6.5</td>\n",
       "      <td>Used</td>\n",
       "      <td>...</td>\n",
       "      <td>Chicago</td>\n",
       "      <td>12</td>\n",
       "      <td>0.1</td>\n",
       "      <td>May</td>\n",
       "      <td>ELEC20</td>\n",
       "      <td>20.0</td>\n",
       "      <td>1</td>\n",
       "      <td>2019-01-01</td>\n",
       "      <td>4500</td>\n",
       "      <td>2424.5</td>\n",
       "    </tr>\n",
       "  </tbody>\n",
       "</table>\n",
       "<p>5 rows × 21 columns</p>\n",
       "</div>"
      ],
      "text/plain": [
       "   CustomerID  Transaction_ID Transaction_Date     Product_SKU  \\\n",
       "0       17850           16679       2019-01-01  GGOENEBJ079499   \n",
       "1       17850           16679       2019-01-01  GGOENEBJ079499   \n",
       "2       17850           16679       2019-01-01  GGOENEBJ079499   \n",
       "3       17850           16679       2019-01-01  GGOENEBJ079499   \n",
       "4       17850           16679       2019-01-01  GGOENEBJ079499   \n",
       "\n",
       "                                 Product_Description Product_Category  \\\n",
       "0  Nest Learning Thermostat 3rd Gen-USA - Stainle...         Nest-USA   \n",
       "1  Nest Learning Thermostat 3rd Gen-USA - Stainle...         Nest-USA   \n",
       "2  Nest Learning Thermostat 3rd Gen-USA - Stainle...         Nest-USA   \n",
       "3  Nest Learning Thermostat 3rd Gen-USA - Stainle...         Nest-USA   \n",
       "4  Nest Learning Thermostat 3rd Gen-USA - Stainle...         Nest-USA   \n",
       "\n",
       "   Quantity  Avg_Price  Delivery_Charges Coupon_Status  ... Location  \\\n",
       "0         1     153.71               6.5          Used  ...  Chicago   \n",
       "1         1     153.71               6.5          Used  ...  Chicago   \n",
       "2         1     153.71               6.5          Used  ...  Chicago   \n",
       "3         1     153.71               6.5          Used  ...  Chicago   \n",
       "4         1     153.71               6.5          Used  ...  Chicago   \n",
       "\n",
       "  Tenure_Months  GST  Month Coupon_Code Discount_pct  Transaction_month  \\\n",
       "0            12  0.1    Jan      ELEC10         10.0                  1   \n",
       "1            12  0.1    Feb      ELEC20         20.0                  1   \n",
       "2            12  0.1    Mar      ELEC30         30.0                  1   \n",
       "3            12  0.1    Apr      ELEC10         10.0                  1   \n",
       "4            12  0.1    May      ELEC20         20.0                  1   \n",
       "\n",
       "        Date Offline_Spend  Online_Spend  \n",
       "0 2019-01-01          4500        2424.5  \n",
       "1 2019-01-01          4500        2424.5  \n",
       "2 2019-01-01          4500        2424.5  \n",
       "3 2019-01-01          4500        2424.5  \n",
       "4 2019-01-01          4500        2424.5  \n",
       "\n",
       "[5 rows x 21 columns]"
      ]
     },
     "execution_count": 42,
     "metadata": {},
     "output_type": "execute_result"
    }
   ],
   "source": [
    "merged_data.head()"
   ]
  },
  {
   "cell_type": "code",
   "execution_count": 20,
   "id": "70296b52",
   "metadata": {},
   "outputs": [],
   "source": [
    "# 1. Calculate Invoice amount or sale_amount or revenue for each transaction and item level\n",
    "# Invoice Value =(( Quantity*Avg_price)*(1-Dicount_pct)*(1+GST))+Delivery_Charges"
   ]
  },
  {
   "cell_type": "code",
   "execution_count": 43,
   "id": "c1a4afae",
   "metadata": {},
   "outputs": [],
   "source": [
    "merged_data[\"Invoice_Value\"] = (((merged_data[\"Quantity\"] * merged_data[\"Avg_Price\"]) * \n",
    "                                (1 - merged_data[\"Discount_pct\"]) * (1 + merged_data[\"GST\"])) + \n",
    "                                merged_data[\"Delivery_Charges\"])"
   ]
  },
  {
   "cell_type": "code",
   "execution_count": 44,
   "id": "ef543c85",
   "metadata": {},
   "outputs": [
    {
     "data": {
      "text/plain": [
       "0         -1515.229\n",
       "1         -3206.039\n",
       "2         -4896.849\n",
       "3         -1515.229\n",
       "4         -3206.039\n",
       "            ...    \n",
       "630683    -6711.482\n",
       "630684   -10254.362\n",
       "630685    -3168.602\n",
       "630686    -6711.482\n",
       "630687   -10254.362\n",
       "Name: Invoice_Value, Length: 630688, dtype: float64"
      ]
     },
     "execution_count": 44,
     "metadata": {},
     "output_type": "execute_result"
    }
   ],
   "source": [
    "merged_data[\"Invoice_Value\"]"
   ]
  },
  {
   "cell_type": "code",
   "execution_count": 45,
   "id": "eeef63e9",
   "metadata": {},
   "outputs": [
    {
     "name": "stdout",
     "output_type": "stream",
     "text": [
      "<class 'pandas.core.frame.DataFrame'>\n",
      "RangeIndex: 630688 entries, 0 to 630687\n",
      "Data columns (total 22 columns):\n",
      " #   Column               Non-Null Count   Dtype         \n",
      "---  ------               --------------   -----         \n",
      " 0   CustomerID           630688 non-null  int64         \n",
      " 1   Transaction_ID       630688 non-null  int64         \n",
      " 2   Transaction_Date     630688 non-null  datetime64[ns]\n",
      " 3   Product_SKU          630688 non-null  object        \n",
      " 4   Product_Description  630688 non-null  object        \n",
      " 5   Product_Category     630688 non-null  object        \n",
      " 6   Quantity             630688 non-null  int64         \n",
      " 7   Avg_Price            630688 non-null  float64       \n",
      " 8   Delivery_Charges     630688 non-null  float64       \n",
      " 9   Coupon_Status        630688 non-null  object        \n",
      " 10  Gender               630688 non-null  object        \n",
      " 11  Location             630688 non-null  object        \n",
      " 12  Tenure_Months        630688 non-null  int64         \n",
      " 13  GST                  630688 non-null  float64       \n",
      " 14  Month                630288 non-null  object        \n",
      " 15  Coupon_Code          630288 non-null  object        \n",
      " 16  Discount_pct         630288 non-null  float64       \n",
      " 17  Transaction_month    630688 non-null  int32         \n",
      " 18  Date                 630688 non-null  datetime64[ns]\n",
      " 19  Offline_Spend        630688 non-null  int64         \n",
      " 20  Online_Spend         630688 non-null  float64       \n",
      " 21  Invoice_Value        630288 non-null  float64       \n",
      "dtypes: datetime64[ns](2), float64(6), int32(1), int64(5), object(8)\n",
      "memory usage: 103.5+ MB\n"
     ]
    }
   ],
   "source": [
    "merged_data.info()"
   ]
  },
  {
   "cell_type": "code",
   "execution_count": 46,
   "id": "34698cb2",
   "metadata": {},
   "outputs": [],
   "source": [
    "merged_data.drop(columns=['Date'], inplace=True)"
   ]
  },
  {
   "cell_type": "code",
   "execution_count": 47,
   "id": "ee8ce501",
   "metadata": {},
   "outputs": [],
   "source": [
    "# 2. Perform Detailed exploratory analysis\n",
    "    # 1. Understanding how many customers acquired every month\n"
   ]
  },
  {
   "cell_type": "code",
   "execution_count": 48,
   "id": "99a52332",
   "metadata": {},
   "outputs": [],
   "source": [
    "# Exploratory Analysis\n",
    "# Customer Acquisition\n",
    "customer_acquisition = merged_data.groupby(\"Transaction_month\")[\"CustomerID\"].nunique()"
   ]
  },
  {
   "cell_type": "code",
   "execution_count": 49,
   "id": "3bbb2bc1",
   "metadata": {},
   "outputs": [
    {
     "data": {
      "text/plain": [
       "Transaction_month\n",
       "1     215\n",
       "2     109\n",
       "3     208\n",
       "4     224\n",
       "5     200\n",
       "6     259\n",
       "7     236\n",
       "8     300\n",
       "9     193\n",
       "10    210\n",
       "11    188\n",
       "12    236\n",
       "Name: CustomerID, dtype: int64"
      ]
     },
     "execution_count": 49,
     "metadata": {},
     "output_type": "execute_result"
    }
   ],
   "source": [
    "customer_acquisition"
   ]
  },
  {
   "cell_type": "code",
   "execution_count": 50,
   "id": "809b7ada",
   "metadata": {},
   "outputs": [
    {
     "data": {
      "image/png": "[encoded data removed]",
      "text/plain": [
       "<Figure size 1200x600 with 1 Axes>"
      ]
     },
     "metadata": {},
     "output_type": "display_data"
    }
   ],
   "source": [
    "plt.figure(figsize=(12, 6))\n",
    "sns.lineplot(data=customer_acquisition, marker='o')\n",
    "plt.title(\"Customer Acquisition by Month\")\n",
    "plt.xlabel(\"Month\")\n",
    "plt.ylabel(\"Number of Customers\")\n",
    "plt.show()"
   ]
  },
  {
   "cell_type": "code",
   "execution_count": 29,
   "id": "9e9de221",
   "metadata": {},
   "outputs": [],
   "source": [
    "# Understand the retention of customers on month on month basis"
   ]
  },
  {
   "cell_type": "code",
   "execution_count": 51,
   "id": "276ed2a6",
   "metadata": {},
   "outputs": [],
   "source": [
    "# Customer Retention\n",
    "customer_retention = merged_data.groupby(\"Transaction_month\")[\"CustomerID\"].nunique().pct_change()"
   ]
  },
  {
   "cell_type": "code",
   "execution_count": 52,
   "id": "daecb3c3",
   "metadata": {},
   "outputs": [
    {
     "data": {
      "text/plain": [
       "Transaction_month\n",
       "1          NaN\n",
       "2    -0.493023\n",
       "3     0.908257\n",
       "4     0.076923\n",
       "5    -0.107143\n",
       "6     0.295000\n",
       "7    -0.088803\n",
       "8     0.271186\n",
       "9    -0.356667\n",
       "10    0.088083\n",
       "11   -0.104762\n",
       "12    0.255319\n",
       "Name: CustomerID, dtype: float64"
      ]
     },
     "execution_count": 52,
     "metadata": {},
     "output_type": "execute_result"
    }
   ],
   "source": [
    "customer_retention"
   ]
  },
  {
   "cell_type": "code",
   "execution_count": 53,
   "id": "791ee272",
   "metadata": {},
   "outputs": [
    {
     "data": {
      "image/png": "[encoded data removed]",
      "text/plain": [
       "<Figure size 1200x600 with 1 Axes>"
      ]
     },
     "metadata": {},
     "output_type": "display_data"
    }
   ],
   "source": [
    "plt.figure(figsize=(12, 6))\n",
    "sns.lineplot(data=customer_retention, marker='o')\n",
    "plt.title(\"Customer Retention Rate by Month\")\n",
    "plt.xlabel(\"Month\")\n",
    "plt.ylabel(\"Retention Rate\")\n",
    "plt.show()"
   ]
  },
  {
   "cell_type": "code",
   "execution_count": 33,
   "id": "36054582",
   "metadata": {},
   "outputs": [],
   "source": [
    "# How the revenues from existing/new customers on month on month basis"
   ]
  },
  {
   "cell_type": "code",
   "execution_count": 54,
   "id": "793dc869",
   "metadata": {},
   "outputs": [],
   "source": [
    "# Revenue Analysis\n",
    "revenue_analysis = merged_data.groupby(\"Transaction_month\")[\"Invoice_Value\"].sum()"
   ]
  },
  {
   "cell_type": "code",
   "execution_count": 55,
   "id": "efd841f3",
   "metadata": {},
   "outputs": [
    {
     "data": {
      "text/plain": [
       "Transaction_month\n",
       "1    -1.010595e+08\n",
       "2    -7.804332e+07\n",
       "3    -8.775200e+07\n",
       "4    -1.011068e+08\n",
       "5    -7.728526e+07\n",
       "6    -8.100651e+07\n",
       "7    -9.360293e+07\n",
       "8    -1.004775e+08\n",
       "9    -9.047835e+07\n",
       "10   -1.015719e+08\n",
       "11   -1.259229e+08\n",
       "12   -1.303679e+08\n",
       "Name: Invoice_Value, dtype: float64"
      ]
     },
     "execution_count": 55,
     "metadata": {},
     "output_type": "execute_result"
    }
   ],
   "source": [
    "revenue_analysis"
   ]
  },
  {
   "cell_type": "code",
   "execution_count": 56,
   "id": "0d38edf6",
   "metadata": {},
   "outputs": [
    {
     "data": {
      "image/png": "[encoded data removed]",
      "text/plain": [
       "<Figure size 1200x600 with 1 Axes>"
      ]
     },
     "metadata": {},
     "output_type": "display_data"
    }
   ],
   "source": [
    "plt.figure(figsize=(12, 6))\n",
    "sns.lineplot(data=revenue_analysis, marker='o')\n",
    "plt.title(\"Revenue Trend by Month\")\n",
    "plt.xlabel(\"Month\")\n",
    "plt.ylabel(\"Revenue\")\n",
    "plt.show()\n"
   ]
  },
  {
   "cell_type": "code",
   "execution_count": 37,
   "id": "45d1a5e1",
   "metadata": {},
   "outputs": [],
   "source": [
    " # How the discounts playing role in the revenues?"
   ]
  },
  {
   "cell_type": "code",
   "execution_count": 57,
   "id": "ed423576",
   "metadata": {},
   "outputs": [],
   "source": [
    "# Discount Impact on Revenue\n",
    "discount_impact = merged_data.groupby(\"Transaction_month\")[\"Invoice_Value\"].sum() / merged_data.groupby(\"Transaction_month\")[\"Discount_pct\"].sum()"
   ]
  },
  {
   "cell_type": "code",
   "execution_count": 58,
   "id": "86425aa3",
   "metadata": {},
   "outputs": [
    {
     "data": {
      "text/plain": [
       "Transaction_month\n",
       "1    -104.668418\n",
       "2    -100.209706\n",
       "3     -85.229220\n",
       "4    -102.800969\n",
       "5     -71.306892\n",
       "6     -81.155836\n",
       "7     -75.060086\n",
       "8     -68.497456\n",
       "9     -88.226800\n",
       "10   -101.906114\n",
       "11   -132.595096\n",
       "12   -120.657412\n",
       "dtype: float64"
      ]
     },
     "execution_count": 58,
     "metadata": {},
     "output_type": "execute_result"
    }
   ],
   "source": [
    "discount_impact"
   ]
  },
  {
   "cell_type": "code",
   "execution_count": 59,
   "id": "8b7bfd28",
   "metadata": {},
   "outputs": [
    {
     "data": {
      "image/png": "[encoded data removed]",
      "text/plain": [
       "<Figure size 1200x600 with 1 Axes>"
      ]
     },
     "metadata": {},
     "output_type": "display_data"
    }
   ],
   "source": [
    "plt.figure(figsize=(12, 6))\n",
    "sns.lineplot(data=discount_impact, marker='o')\n",
    "plt.title(\"Impact of Discounts on Revenue\")\n",
    "plt.xlabel(\"Month\")\n",
    "plt.ylabel(\"Discount Impact\")\n",
    "plt.show()"
   ]
  },
  {
   "cell_type": "code",
   "execution_count": 41,
   "id": "615587eb",
   "metadata": {},
   "outputs": [],
   "source": [
    "# Analyse KPI’s like Revenue, number of orders, average order value, number of \n",
    "# customers (existing/new), quantity, by category, by month, by week, by day etc…\n",
    "# Understand the trends/seasonality of sales by category, location, month etc…"
   ]
  },
  {
   "cell_type": "code",
   "execution_count": 60,
   "id": "3b37824c",
   "metadata": {},
   "outputs": [],
   "source": [
    "# KPI Analysis\n",
    "kpi_analysis = merged_data.groupby(\"Transaction_month\").agg({\n",
    "    \"Invoice_Value\": \"sum\",\n",
    "    \"Transaction_ID\": \"count\",\n",
    "    \"CustomerID\": \"nunique\",\n",
    "    \"Quantity\": \"sum\"\n",
    "})"
   ]
  },
  {
   "cell_type": "code",
   "execution_count": 61,
   "id": "15a582f5",
   "metadata": {},
   "outputs": [
    {
     "data": {
      "text/html": [
       "<div>\n",
       "<style scoped>\n",
       "    .dataframe tbody tr th:only-of-type {\n",
       "        vertical-align: middle;\n",
       "    }\n",
       "\n",
       "    .dataframe tbody tr th {\n",
       "        vertical-align: top;\n",
       "    }\n",
       "\n",
       "    .dataframe thead th {\n",
       "        text-align: right;\n",
       "    }\n",
       "</style>\n",
       "<table border=\"1\" class=\"dataframe\">\n",
       "  <thead>\n",
       "    <tr style=\"text-align: right;\">\n",
       "      <th></th>\n",
       "      <th>Invoice_Value</th>\n",
       "      <th>Transaction_ID</th>\n",
       "      <th>CustomerID</th>\n",
       "      <th>Quantity</th>\n",
       "    </tr>\n",
       "    <tr>\n",
       "      <th>Transaction_month</th>\n",
       "      <th></th>\n",
       "      <th></th>\n",
       "      <th></th>\n",
       "      <th></th>\n",
       "    </tr>\n",
       "  </thead>\n",
       "  <tbody>\n",
       "    <tr>\n",
       "      <th>1</th>\n",
       "      <td>-1.010595e+08</td>\n",
       "      <td>48316</td>\n",
       "      <td>215</td>\n",
       "      <td>239997</td>\n",
       "    </tr>\n",
       "    <tr>\n",
       "      <th>2</th>\n",
       "      <td>-7.804332e+07</td>\n",
       "      <td>38979</td>\n",
       "      <td>109</td>\n",
       "      <td>197085</td>\n",
       "    </tr>\n",
       "    <tr>\n",
       "      <th>3</th>\n",
       "      <td>-8.775200e+07</td>\n",
       "      <td>51536</td>\n",
       "      <td>208</td>\n",
       "      <td>246760</td>\n",
       "    </tr>\n",
       "    <tr>\n",
       "      <th>4</th>\n",
       "      <td>-1.011068e+08</td>\n",
       "      <td>49228</td>\n",
       "      <td>224</td>\n",
       "      <td>299419</td>\n",
       "    </tr>\n",
       "    <tr>\n",
       "      <th>5</th>\n",
       "      <td>-7.728526e+07</td>\n",
       "      <td>54248</td>\n",
       "      <td>200</td>\n",
       "      <td>222424</td>\n",
       "    </tr>\n",
       "    <tr>\n",
       "      <th>6</th>\n",
       "      <td>-8.100651e+07</td>\n",
       "      <td>49942</td>\n",
       "      <td>259</td>\n",
       "      <td>257921</td>\n",
       "    </tr>\n",
       "    <tr>\n",
       "      <th>7</th>\n",
       "      <td>-9.360293e+07</td>\n",
       "      <td>62407</td>\n",
       "      <td>236</td>\n",
       "      <td>271641</td>\n",
       "    </tr>\n",
       "    <tr>\n",
       "      <th>8</th>\n",
       "      <td>-1.004775e+08</td>\n",
       "      <td>73382</td>\n",
       "      <td>300</td>\n",
       "      <td>328626</td>\n",
       "    </tr>\n",
       "    <tr>\n",
       "      <th>9</th>\n",
       "      <td>-9.047835e+07</td>\n",
       "      <td>51291</td>\n",
       "      <td>193</td>\n",
       "      <td>231972</td>\n",
       "    </tr>\n",
       "    <tr>\n",
       "      <th>10</th>\n",
       "      <td>-1.015719e+08</td>\n",
       "      <td>49847</td>\n",
       "      <td>210</td>\n",
       "      <td>208825</td>\n",
       "    </tr>\n",
       "    <tr>\n",
       "      <th>11</th>\n",
       "      <td>-1.259229e+08</td>\n",
       "      <td>47488</td>\n",
       "      <td>188</td>\n",
       "      <td>181396</td>\n",
       "    </tr>\n",
       "    <tr>\n",
       "      <th>12</th>\n",
       "      <td>-1.303679e+08</td>\n",
       "      <td>54024</td>\n",
       "      <td>236</td>\n",
       "      <td>152004</td>\n",
       "    </tr>\n",
       "  </tbody>\n",
       "</table>\n",
       "</div>"
      ],
      "text/plain": [
       "                   Invoice_Value  Transaction_ID  CustomerID  Quantity\n",
       "Transaction_month                                                     \n",
       "1                  -1.010595e+08           48316         215    239997\n",
       "2                  -7.804332e+07           38979         109    197085\n",
       "3                  -8.775200e+07           51536         208    246760\n",
       "4                  -1.011068e+08           49228         224    299419\n",
       "5                  -7.728526e+07           54248         200    222424\n",
       "6                  -8.100651e+07           49942         259    257921\n",
       "7                  -9.360293e+07           62407         236    271641\n",
       "8                  -1.004775e+08           73382         300    328626\n",
       "9                  -9.047835e+07           51291         193    231972\n",
       "10                 -1.015719e+08           49847         210    208825\n",
       "11                 -1.259229e+08           47488         188    181396\n",
       "12                 -1.303679e+08           54024         236    152004"
      ]
     },
     "execution_count": 61,
     "metadata": {},
     "output_type": "execute_result"
    }
   ],
   "source": [
    "kpi_analysis"
   ]
  },
  {
   "cell_type": "code",
   "execution_count": 62,
   "id": "52f8f8cf",
   "metadata": {},
   "outputs": [
    {
     "data": {
      "image/png": "[encoded data removed]",
      "text/plain": [
       "<Figure size 1200x600 with 1 Axes>"
      ]
     },
     "metadata": {},
     "output_type": "display_data"
    }
   ],
   "source": [
    "plt.figure(figsize=(12, 6))\n",
    "sns.lineplot(data=kpi_analysis, markers=True)\n",
    "plt.title(\"KPI Analysis by Month\")\n",
    "plt.xlabel(\"Month\")\n",
    "plt.ylabel(\"Value\")\n",
    "plt.legend([\"Revenue\", \"Quantity\"])\n",
    "plt.show()"
   ]
  },
  {
   "cell_type": "code",
   "execution_count": 63,
   "id": "a0aef58c",
   "metadata": {},
   "outputs": [],
   "source": [
    "# How number order varies and sales with different days"
   ]
  },
  {
   "cell_type": "code",
   "execution_count": 64,
   "id": "ba2a36ac",
   "metadata": {},
   "outputs": [
    {
     "data": {
      "image/png": "[encoded data removed]",
      "text/plain": [
       "<Figure size 1000x600 with 1 Axes>"
      ]
     },
     "metadata": {},
     "output_type": "display_data"
    }
   ],
   "source": [
    "# Extract day of the week from Transaction_Date\n",
    "merged_data['Transaction_DayOfWeek'] = merged_data['Transaction_Date'].dt.day_name()\n",
    "\n",
    "# Group by day of the week and calculate total number of orders and total sales\n",
    "daily_orders_sales = merged_data.groupby('Transaction_DayOfWeek').agg(\n",
    "    {'Transaction_ID': 'count', 'Invoice_Value': 'sum'})\n",
    "\n",
    "# Plotting Number of Orders by Day of the Week\n",
    "plt.figure(figsize=(10, 6))\n",
    "plt.bar(daily_orders_sales.index, daily_orders_sales['Transaction_ID'], color='skyblue')\n",
    "plt.title('Number of Orders by Day of the Week')\n",
    "plt.xlabel('Day of the Week')\n",
    "plt.ylabel('Number of Orders')\n",
    "plt.xticks(rotation=45)\n",
    "plt.tight_layout()\n",
    "plt.show()\n",
    "\n"
   ]
  },
  {
   "cell_type": "code",
   "execution_count": 65,
   "id": "f223f325",
   "metadata": {},
   "outputs": [
    {
     "data": {
      "image/png": "[encoded data removed]",
      "text/plain": [
       "<Figure size 1000x600 with 1 Axes>"
      ]
     },
     "metadata": {},
     "output_type": "display_data"
    }
   ],
   "source": [
    "# Plotting Sales by Day of the Week\n",
    "plt.figure(figsize=(10, 6))\n",
    "plt.bar(daily_orders_sales.index, daily_orders_sales['Invoice_Value'], color='salmon')\n",
    "plt.title('Sales by Day of the Week')\n",
    "plt.xlabel('Day of the Week')\n",
    "plt.ylabel('Total Sales')\n",
    "plt.xticks(rotation=45)\n",
    "plt.tight_layout()\n",
    "plt.show()"
   ]
  },
  {
   "cell_type": "code",
   "execution_count": 66,
   "id": "285fca7e",
   "metadata": {},
   "outputs": [
    {
     "data": {
      "text/html": [
       "<div>\n",
       "<style scoped>\n",
       "    .dataframe tbody tr th:only-of-type {\n",
       "        vertical-align: middle;\n",
       "    }\n",
       "\n",
       "    .dataframe tbody tr th {\n",
       "        vertical-align: top;\n",
       "    }\n",
       "\n",
       "    .dataframe thead th {\n",
       "        text-align: right;\n",
       "    }\n",
       "</style>\n",
       "<table border=\"1\" class=\"dataframe\">\n",
       "  <thead>\n",
       "    <tr style=\"text-align: right;\">\n",
       "      <th></th>\n",
       "      <th>Transaction_ID</th>\n",
       "      <th>Invoice_Value</th>\n",
       "    </tr>\n",
       "    <tr>\n",
       "      <th>Transaction_DayOfWeek</th>\n",
       "      <th></th>\n",
       "      <th></th>\n",
       "    </tr>\n",
       "  </thead>\n",
       "  <tbody>\n",
       "    <tr>\n",
       "      <th>Friday</th>\n",
       "      <td>110488</td>\n",
       "      <td>-2.183682e+08</td>\n",
       "    </tr>\n",
       "    <tr>\n",
       "      <th>Monday</th>\n",
       "      <td>53183</td>\n",
       "      <td>-9.116652e+07</td>\n",
       "    </tr>\n",
       "    <tr>\n",
       "      <th>Saturday</th>\n",
       "      <td>97420</td>\n",
       "      <td>-1.689111e+08</td>\n",
       "    </tr>\n",
       "    <tr>\n",
       "      <th>Sunday</th>\n",
       "      <td>101447</td>\n",
       "      <td>-1.748806e+08</td>\n",
       "    </tr>\n",
       "    <tr>\n",
       "      <th>Thursday</th>\n",
       "      <td>107164</td>\n",
       "      <td>-2.097024e+08</td>\n",
       "    </tr>\n",
       "    <tr>\n",
       "      <th>Tuesday</th>\n",
       "      <td>54969</td>\n",
       "      <td>-9.884971e+07</td>\n",
       "    </tr>\n",
       "    <tr>\n",
       "      <th>Wednesday</th>\n",
       "      <td>106017</td>\n",
       "      <td>-2.067964e+08</td>\n",
       "    </tr>\n",
       "  </tbody>\n",
       "</table>\n",
       "</div>"
      ],
      "text/plain": [
       "                       Transaction_ID  Invoice_Value\n",
       "Transaction_DayOfWeek                               \n",
       "Friday                         110488  -2.183682e+08\n",
       "Monday                          53183  -9.116652e+07\n",
       "Saturday                        97420  -1.689111e+08\n",
       "Sunday                         101447  -1.748806e+08\n",
       "Thursday                       107164  -2.097024e+08\n",
       "Tuesday                         54969  -9.884971e+07\n",
       "Wednesday                      106017  -2.067964e+08"
      ]
     },
     "execution_count": 66,
     "metadata": {},
     "output_type": "execute_result"
    }
   ],
   "source": [
    "daily_orders_sales"
   ]
  },
  {
   "cell_type": "code",
   "execution_count": 67,
   "id": "da082fff",
   "metadata": {},
   "outputs": [],
   "source": [
    "# Calculate the Revenue, Marketing spend, percentage of marketing spend out of \n",
    "# revenue, Tax, percentage of delivery charges by month"
   ]
  },
  {
   "cell_type": "code",
   "execution_count": 68,
   "id": "bfec94b3",
   "metadata": {},
   "outputs": [],
   "source": [
    "monthly_summary = merged_data.groupby('Transaction_month').agg(\n",
    "    {'Invoice_Value': 'sum', 'Online_Spend': 'sum', 'GST': 'sum', 'Delivery_Charges': 'sum'})\n",
    "\n",
    "# Calculate percentage of marketing spend out of revenue\n",
    "monthly_summary['Percentage_Marketing_Spend'] = (monthly_summary['Online_Spend'] / \n",
    "                                                 monthly_summary['Invoice_Value']) * 100\n",
    "\n",
    "# Calculate percentage of delivery charges out of revenue\n",
    "monthly_summary['Percentage_Delivery_Charges'] = (monthly_summary['Delivery_Charges'] / \n",
    "                                                  monthly_summary['Invoice_Value']) * 100\n"
   ]
  },
  {
   "cell_type": "code",
   "execution_count": 69,
   "id": "a7cfec01",
   "metadata": {},
   "outputs": [
    {
     "data": {
      "text/html": [
       "<div>\n",
       "<style scoped>\n",
       "    .dataframe tbody tr th:only-of-type {\n",
       "        vertical-align: middle;\n",
       "    }\n",
       "\n",
       "    .dataframe tbody tr th {\n",
       "        vertical-align: top;\n",
       "    }\n",
       "\n",
       "    .dataframe thead th {\n",
       "        text-align: right;\n",
       "    }\n",
       "</style>\n",
       "<table border=\"1\" class=\"dataframe\">\n",
       "  <thead>\n",
       "    <tr style=\"text-align: right;\">\n",
       "      <th></th>\n",
       "      <th>Invoice_Value</th>\n",
       "      <th>Online_Spend</th>\n",
       "      <th>GST</th>\n",
       "      <th>Delivery_Charges</th>\n",
       "      <th>Percentage_Marketing_Spend</th>\n",
       "      <th>Percentage_Delivery_Charges</th>\n",
       "    </tr>\n",
       "    <tr>\n",
       "      <th>Transaction_month</th>\n",
       "      <th></th>\n",
       "      <th></th>\n",
       "      <th></th>\n",
       "      <th></th>\n",
       "      <th></th>\n",
       "      <th></th>\n",
       "    </tr>\n",
       "  </thead>\n",
       "  <tbody>\n",
       "    <tr>\n",
       "      <th>1</th>\n",
       "      <td>-1.010595e+08</td>\n",
       "      <td>9.141450e+07</td>\n",
       "      <td>6362.64</td>\n",
       "      <td>701661.57</td>\n",
       "      <td>-90.456162</td>\n",
       "      <td>-0.694306</td>\n",
       "    </tr>\n",
       "    <tr>\n",
       "      <th>2</th>\n",
       "      <td>-7.804332e+07</td>\n",
       "      <td>7.557066e+07</td>\n",
       "      <td>5305.26</td>\n",
       "      <td>582213.68</td>\n",
       "      <td>-96.831688</td>\n",
       "      <td>-0.746013</td>\n",
       "    </tr>\n",
       "    <tr>\n",
       "      <th>3</th>\n",
       "      <td>-8.775200e+07</td>\n",
       "      <td>8.265592e+07</td>\n",
       "      <td>7302.36</td>\n",
       "      <td>713367.13</td>\n",
       "      <td>-94.192632</td>\n",
       "      <td>-0.812935</td>\n",
       "    </tr>\n",
       "    <tr>\n",
       "      <th>4</th>\n",
       "      <td>-1.011068e+08</td>\n",
       "      <td>9.727013e+07</td>\n",
       "      <td>7014.24</td>\n",
       "      <td>491709.32</td>\n",
       "      <td>-96.205319</td>\n",
       "      <td>-0.486327</td>\n",
       "    </tr>\n",
       "    <tr>\n",
       "      <th>5</th>\n",
       "      <td>-7.728526e+07</td>\n",
       "      <td>8.985455e+07</td>\n",
       "      <td>7864.04</td>\n",
       "      <td>489602.06</td>\n",
       "      <td>-116.263505</td>\n",
       "      <td>-0.633500</td>\n",
       "    </tr>\n",
       "    <tr>\n",
       "      <th>6</th>\n",
       "      <td>-8.100651e+07</td>\n",
       "      <td>8.855685e+07</td>\n",
       "      <td>7153.04</td>\n",
       "      <td>445127.82</td>\n",
       "      <td>-109.320665</td>\n",
       "      <td>-0.549496</td>\n",
       "    </tr>\n",
       "    <tr>\n",
       "      <th>7</th>\n",
       "      <td>-9.360293e+07</td>\n",
       "      <td>1.077274e+08</td>\n",
       "      <td>9037.22</td>\n",
       "      <td>576989.36</td>\n",
       "      <td>-115.089803</td>\n",
       "      <td>-0.616422</td>\n",
       "    </tr>\n",
       "    <tr>\n",
       "      <th>8</th>\n",
       "      <td>-1.004775e+08</td>\n",
       "      <td>1.377828e+08</td>\n",
       "      <td>10900.64</td>\n",
       "      <td>727644.57</td>\n",
       "      <td>-137.127898</td>\n",
       "      <td>-0.724186</td>\n",
       "    </tr>\n",
       "    <tr>\n",
       "      <th>9</th>\n",
       "      <td>-9.047835e+07</td>\n",
       "      <td>8.815646e+07</td>\n",
       "      <td>7140.30</td>\n",
       "      <td>489388.08</td>\n",
       "      <td>-97.433767</td>\n",
       "      <td>-0.540890</td>\n",
       "    </tr>\n",
       "    <tr>\n",
       "      <th>10</th>\n",
       "      <td>-1.015719e+08</td>\n",
       "      <td>9.352580e+07</td>\n",
       "      <td>6483.26</td>\n",
       "      <td>550056.79</td>\n",
       "      <td>-92.078449</td>\n",
       "      <td>-0.541544</td>\n",
       "    </tr>\n",
       "    <tr>\n",
       "      <th>11</th>\n",
       "      <td>-1.259229e+08</td>\n",
       "      <td>1.071531e+08</td>\n",
       "      <td>5529.52</td>\n",
       "      <td>387479.16</td>\n",
       "      <td>-85.094186</td>\n",
       "      <td>-0.307711</td>\n",
       "    </tr>\n",
       "    <tr>\n",
       "      <th>12</th>\n",
       "      <td>-1.303679e+08</td>\n",
       "      <td>1.349328e+08</td>\n",
       "      <td>6586.56</td>\n",
       "      <td>454583.88</td>\n",
       "      <td>-103.501554</td>\n",
       "      <td>-0.348693</td>\n",
       "    </tr>\n",
       "  </tbody>\n",
       "</table>\n",
       "</div>"
      ],
      "text/plain": [
       "                   Invoice_Value  Online_Spend       GST  Delivery_Charges  \\\n",
       "Transaction_month                                                            \n",
       "1                  -1.010595e+08  9.141450e+07   6362.64         701661.57   \n",
       "2                  -7.804332e+07  7.557066e+07   5305.26         582213.68   \n",
       "3                  -8.775200e+07  8.265592e+07   7302.36         713367.13   \n",
       "4                  -1.011068e+08  9.727013e+07   7014.24         491709.32   \n",
       "5                  -7.728526e+07  8.985455e+07   7864.04         489602.06   \n",
       "6                  -8.100651e+07  8.855685e+07   7153.04         445127.82   \n",
       "7                  -9.360293e+07  1.077274e+08   9037.22         576989.36   \n",
       "8                  -1.004775e+08  1.377828e+08  10900.64         727644.57   \n",
       "9                  -9.047835e+07  8.815646e+07   7140.30         489388.08   \n",
       "10                 -1.015719e+08  9.352580e+07   6483.26         550056.79   \n",
       "11                 -1.259229e+08  1.071531e+08   5529.52         387479.16   \n",
       "12                 -1.303679e+08  1.349328e+08   6586.56         454583.88   \n",
       "\n",
       "                   Percentage_Marketing_Spend  Percentage_Delivery_Charges  \n",
       "Transaction_month                                                           \n",
       "1                                  -90.456162                    -0.694306  \n",
       "2                                  -96.831688                    -0.746013  \n",
       "3                                  -94.192632                    -0.812935  \n",
       "4                                  -96.205319                    -0.486327  \n",
       "5                                 -116.263505                    -0.633500  \n",
       "6                                 -109.320665                    -0.549496  \n",
       "7                                 -115.089803                    -0.616422  \n",
       "8                                 -137.127898                    -0.724186  \n",
       "9                                  -97.433767                    -0.540890  \n",
       "10                                 -92.078449                    -0.541544  \n",
       "11                                 -85.094186                    -0.307711  \n",
       "12                                -103.501554                    -0.348693  "
      ]
     },
     "execution_count": 69,
     "metadata": {},
     "output_type": "execute_result"
    }
   ],
   "source": [
    "monthly_summary"
   ]
  },
  {
   "cell_type": "code",
   "execution_count": 70,
   "id": "590e7f5f",
   "metadata": {},
   "outputs": [],
   "source": [
    "# How marketing spend is impacting on revenue?"
   ]
  },
  {
   "cell_type": "code",
   "execution_count": 71,
   "id": "bf998e50",
   "metadata": {},
   "outputs": [
    {
     "data": {
      "image/png": "[encoded data removed]",
      "text/plain": [
       "<Figure size 800x600 with 1 Axes>"
      ]
     },
     "metadata": {},
     "output_type": "display_data"
    },
    {
     "name": "stdout",
     "output_type": "stream",
     "text": [
      "Correlation between Marketing Spend and Revenue: -0.03200761924119568\n"
     ]
    }
   ],
   "source": [
    "# Calculate correlation between marketing spend and revenue\n",
    "correlation = merged_data['Online_Spend'].corr(merged_data['Invoice_Value'])\n",
    "\n",
    "# Create a scatter plot to visualize the relationship\n",
    "plt.figure(figsize=(8, 6))\n",
    "plt.scatter(merged_data['Online_Spend'], merged_data['Invoice_Value'], color='skyblue', alpha=0.5)\n",
    "plt.title('Impact of Marketing Spend on Revenue')\n",
    "plt.xlabel('Marketing Spend')\n",
    "plt.ylabel('Revenue')\n",
    "plt.grid(True)\n",
    "plt.tight_layout()\n",
    "plt.show()\n",
    "\n",
    "print(\"Correlation between Marketing Spend and Revenue:\", correlation)\n"
   ]
  },
  {
   "cell_type": "code",
   "execution_count": 72,
   "id": "c2a30a65",
   "metadata": {},
   "outputs": [],
   "source": [
    "# Which product was appeared in the transactions?"
   ]
  },
  {
   "cell_type": "code",
   "execution_count": 73,
   "id": "3cfeed18",
   "metadata": {},
   "outputs": [
    {
     "name": "stdout",
     "output_type": "stream",
     "text": [
      "Product Categories Appeared in the Transactions:\n",
      "Nest-USA\n",
      "Office\n",
      "Apparel\n",
      "Bags\n",
      "Drinkware\n",
      "Lifestyle\n",
      "Notebooks & Journals\n",
      "Headgear\n",
      "Waze\n",
      "Fun\n",
      "Nest-Canada\n",
      "Backpacks\n",
      "Google\n",
      "Bottles\n",
      "Gift Cards\n",
      "More Bags\n",
      "Housewares\n",
      "Android\n",
      "Accessories\n",
      "Nest\n"
     ]
    }
   ],
   "source": [
    "unique_categories = merged_data['Product_Category'].unique()\n",
    "\n",
    "# Display the list of unique product categories\n",
    "print(\"Product Categories Appeared in the Transactions:\")\n",
    "for category in unique_categories:\n",
    "    print(category)\n"
   ]
  },
  {
   "cell_type": "code",
   "execution_count": 74,
   "id": "49910603",
   "metadata": {},
   "outputs": [],
   "source": [
    "# Which product was purchased mostly based on the quantity"
   ]
  },
  {
   "cell_type": "code",
   "execution_count": 75,
   "id": "70af2f02",
   "metadata": {},
   "outputs": [
    {
     "name": "stdout",
     "output_type": "stream",
     "text": [
      "Product Purchased the Most Based on Quantity:\n",
      "Product SKU: GGOEGGOA017399\n",
      "Total Quantity Purchased: 194808\n"
     ]
    }
   ],
   "source": [
    "# Group by product SKU and calculate total quantity\n",
    "product_quantity = merged_data.groupby('Product_SKU')['Quantity'].sum()\n",
    "\n",
    "# Find the product with the highest total quantity\n",
    "most_purchased_product = product_quantity.idxmax()\n",
    "max_quantity = product_quantity.max()\n",
    "\n",
    "print(\"Product Purchased the Most Based on Quantity:\")\n",
    "print(\"Product SKU:\", most_purchased_product)\n",
    "print(\"Total Quantity Purchased:\", max_quantity)\n"
   ]
  },
  {
   "cell_type": "code",
   "execution_count": 77,
   "id": "5b3928f3",
   "metadata": {},
   "outputs": [
    {
     "data": {
      "text/html": [
       "<div>\n",
       "<style scoped>\n",
       "    .dataframe tbody tr th:only-of-type {\n",
       "        vertical-align: middle;\n",
       "    }\n",
       "\n",
       "    .dataframe tbody tr th {\n",
       "        vertical-align: top;\n",
       "    }\n",
       "\n",
       "    .dataframe thead th {\n",
       "        text-align: right;\n",
       "    }\n",
       "</style>\n",
       "<table border=\"1\" class=\"dataframe\">\n",
       "  <thead>\n",
       "    <tr style=\"text-align: right;\">\n",
       "      <th></th>\n",
       "      <th>CustomerID</th>\n",
       "      <th>Transaction_ID</th>\n",
       "      <th>Transaction_Date</th>\n",
       "      <th>Product_SKU</th>\n",
       "      <th>Product_Description</th>\n",
       "      <th>Product_Category</th>\n",
       "      <th>Quantity</th>\n",
       "      <th>Avg_Price</th>\n",
       "      <th>Delivery_Charges</th>\n",
       "      <th>Coupon_Status</th>\n",
       "      <th>...</th>\n",
       "      <th>Tenure_Months</th>\n",
       "      <th>GST</th>\n",
       "      <th>Month</th>\n",
       "      <th>Coupon_Code</th>\n",
       "      <th>Discount_pct</th>\n",
       "      <th>Transaction_month</th>\n",
       "      <th>Offline_Spend</th>\n",
       "      <th>Online_Spend</th>\n",
       "      <th>Invoice_Value</th>\n",
       "      <th>Transaction_DayOfWeek</th>\n",
       "    </tr>\n",
       "  </thead>\n",
       "  <tbody>\n",
       "    <tr>\n",
       "      <th>0</th>\n",
       "      <td>17850</td>\n",
       "      <td>16679</td>\n",
       "      <td>2019-01-01</td>\n",
       "      <td>GGOENEBJ079499</td>\n",
       "      <td>Nest Learning Thermostat 3rd Gen-USA - Stainle...</td>\n",
       "      <td>Nest-USA</td>\n",
       "      <td>1</td>\n",
       "      <td>153.71</td>\n",
       "      <td>6.5</td>\n",
       "      <td>Used</td>\n",
       "      <td>...</td>\n",
       "      <td>12</td>\n",
       "      <td>0.1</td>\n",
       "      <td>Jan</td>\n",
       "      <td>ELEC10</td>\n",
       "      <td>10.0</td>\n",
       "      <td>1</td>\n",
       "      <td>4500</td>\n",
       "      <td>2424.5</td>\n",
       "      <td>-1515.229</td>\n",
       "      <td>Tuesday</td>\n",
       "    </tr>\n",
       "    <tr>\n",
       "      <th>1</th>\n",
       "      <td>17850</td>\n",
       "      <td>16679</td>\n",
       "      <td>2019-01-01</td>\n",
       "      <td>GGOENEBJ079499</td>\n",
       "      <td>Nest Learning Thermostat 3rd Gen-USA - Stainle...</td>\n",
       "      <td>Nest-USA</td>\n",
       "      <td>1</td>\n",
       "      <td>153.71</td>\n",
       "      <td>6.5</td>\n",
       "      <td>Used</td>\n",
       "      <td>...</td>\n",
       "      <td>12</td>\n",
       "      <td>0.1</td>\n",
       "      <td>Feb</td>\n",
       "      <td>ELEC20</td>\n",
       "      <td>20.0</td>\n",
       "      <td>1</td>\n",
       "      <td>4500</td>\n",
       "      <td>2424.5</td>\n",
       "      <td>-3206.039</td>\n",
       "      <td>Tuesday</td>\n",
       "    </tr>\n",
       "    <tr>\n",
       "      <th>2</th>\n",
       "      <td>17850</td>\n",
       "      <td>16679</td>\n",
       "      <td>2019-01-01</td>\n",
       "      <td>GGOENEBJ079499</td>\n",
       "      <td>Nest Learning Thermostat 3rd Gen-USA - Stainle...</td>\n",
       "      <td>Nest-USA</td>\n",
       "      <td>1</td>\n",
       "      <td>153.71</td>\n",
       "      <td>6.5</td>\n",
       "      <td>Used</td>\n",
       "      <td>...</td>\n",
       "      <td>12</td>\n",
       "      <td>0.1</td>\n",
       "      <td>Mar</td>\n",
       "      <td>ELEC30</td>\n",
       "      <td>30.0</td>\n",
       "      <td>1</td>\n",
       "      <td>4500</td>\n",
       "      <td>2424.5</td>\n",
       "      <td>-4896.849</td>\n",
       "      <td>Tuesday</td>\n",
       "    </tr>\n",
       "    <tr>\n",
       "      <th>3</th>\n",
       "      <td>17850</td>\n",
       "      <td>16679</td>\n",
       "      <td>2019-01-01</td>\n",
       "      <td>GGOENEBJ079499</td>\n",
       "      <td>Nest Learning Thermostat 3rd Gen-USA - Stainle...</td>\n",
       "      <td>Nest-USA</td>\n",
       "      <td>1</td>\n",
       "      <td>153.71</td>\n",
       "      <td>6.5</td>\n",
       "      <td>Used</td>\n",
       "      <td>...</td>\n",
       "      <td>12</td>\n",
       "      <td>0.1</td>\n",
       "      <td>Apr</td>\n",
       "      <td>ELEC10</td>\n",
       "      <td>10.0</td>\n",
       "      <td>1</td>\n",
       "      <td>4500</td>\n",
       "      <td>2424.5</td>\n",
       "      <td>-1515.229</td>\n",
       "      <td>Tuesday</td>\n",
       "    </tr>\n",
       "    <tr>\n",
       "      <th>4</th>\n",
       "      <td>17850</td>\n",
       "      <td>16679</td>\n",
       "      <td>2019-01-01</td>\n",
       "      <td>GGOENEBJ079499</td>\n",
       "      <td>Nest Learning Thermostat 3rd Gen-USA - Stainle...</td>\n",
       "      <td>Nest-USA</td>\n",
       "      <td>1</td>\n",
       "      <td>153.71</td>\n",
       "      <td>6.5</td>\n",
       "      <td>Used</td>\n",
       "      <td>...</td>\n",
       "      <td>12</td>\n",
       "      <td>0.1</td>\n",
       "      <td>May</td>\n",
       "      <td>ELEC20</td>\n",
       "      <td>20.0</td>\n",
       "      <td>1</td>\n",
       "      <td>4500</td>\n",
       "      <td>2424.5</td>\n",
       "      <td>-3206.039</td>\n",
       "      <td>Tuesday</td>\n",
       "    </tr>\n",
       "  </tbody>\n",
       "</table>\n",
       "<p>5 rows × 22 columns</p>\n",
       "</div>"
      ],
      "text/plain": [
       "   CustomerID  Transaction_ID Transaction_Date     Product_SKU  \\\n",
       "0       17850           16679       2019-01-01  GGOENEBJ079499   \n",
       "1       17850           16679       2019-01-01  GGOENEBJ079499   \n",
       "2       17850           16679       2019-01-01  GGOENEBJ079499   \n",
       "3       17850           16679       2019-01-01  GGOENEBJ079499   \n",
       "4       17850           16679       2019-01-01  GGOENEBJ079499   \n",
       "\n",
       "                                 Product_Description Product_Category  \\\n",
       "0  Nest Learning Thermostat 3rd Gen-USA - Stainle...         Nest-USA   \n",
       "1  Nest Learning Thermostat 3rd Gen-USA - Stainle...         Nest-USA   \n",
       "2  Nest Learning Thermostat 3rd Gen-USA - Stainle...         Nest-USA   \n",
       "3  Nest Learning Thermostat 3rd Gen-USA - Stainle...         Nest-USA   \n",
       "4  Nest Learning Thermostat 3rd Gen-USA - Stainle...         Nest-USA   \n",
       "\n",
       "   Quantity  Avg_Price  Delivery_Charges Coupon_Status  ... Tenure_Months  \\\n",
       "0         1     153.71               6.5          Used  ...            12   \n",
       "1         1     153.71               6.5          Used  ...            12   \n",
       "2         1     153.71               6.5          Used  ...            12   \n",
       "3         1     153.71               6.5          Used  ...            12   \n",
       "4         1     153.71               6.5          Used  ...            12   \n",
       "\n",
       "   GST  Month  Coupon_Code Discount_pct Transaction_month  Offline_Spend  \\\n",
       "0  0.1    Jan       ELEC10         10.0                 1           4500   \n",
       "1  0.1    Feb       ELEC20         20.0                 1           4500   \n",
       "2  0.1    Mar       ELEC30         30.0                 1           4500   \n",
       "3  0.1    Apr       ELEC10         10.0                 1           4500   \n",
       "4  0.1    May       ELEC20         20.0                 1           4500   \n",
       "\n",
       "   Online_Spend  Invoice_Value  Transaction_DayOfWeek  \n",
       "0        2424.5      -1515.229                Tuesday  \n",
       "1        2424.5      -3206.039                Tuesday  \n",
       "2        2424.5      -4896.849                Tuesday  \n",
       "3        2424.5      -1515.229                Tuesday  \n",
       "4        2424.5      -3206.039                Tuesday  \n",
       "\n",
       "[5 rows x 22 columns]"
      ]
     },
     "execution_count": 77,
     "metadata": {},
     "output_type": "execute_result"
    }
   ],
   "source": [
    "merged_data.head()"
   ]
  },
  {
   "cell_type": "markdown",
   "id": "2b5b0997",
   "metadata": {},
   "source": [
    "# 3. Performing Customer Segmentation"
   ]
  },
  {
   "cell_type": "code",
   "execution_count": 59,
   "id": "5f4b492a",
   "metadata": {},
   "outputs": [],
   "source": [
    "# Heuristic (Value based, RFM) – Divide the customers into Premium, Gold, Silver, \n",
    "# Standard customers and define strategy on the same"
   ]
  },
  {
   "cell_type": "code",
   "execution_count": 78,
   "id": "842c308f",
   "metadata": {},
   "outputs": [
    {
     "name": "stdout",
     "output_type": "stream",
     "text": [
      "RFM Segments with Filled Segment Labels:\n",
      "      CustomerID RFM_Segment RFM_Segment_Label\n",
      "0          12346         314              Gold\n",
      "1          12347         341              Gold\n",
      "2          12348         333              Gold\n",
      "3          12350         423           Premium\n",
      "4          12356         333              Gold\n",
      "...          ...         ...               ...\n",
      "1463       18259         114          Standard\n",
      "1464       18260         332              Gold\n",
      "1465       18269         214            Silver\n",
      "1466       18277         314              Gold\n",
      "1467       18283         341              Gold\n",
      "\n",
      "[1468 rows x 3 columns]\n"
     ]
    }
   ],
   "source": [
    "# Calculate RFM metrics for each customer\n",
    "rfm_data = merged_data.groupby('CustomerID').agg({\n",
    "    'Transaction_Date': lambda x: (merged_data['Transaction_Date'].max() - x.max()).days,  # Recency\n",
    "    'Transaction_ID': 'count',  # Frequency\n",
    "    'Invoice_Value': 'sum'  # Monetary\n",
    "}).reset_index()\n",
    "\n",
    "# Rename columns for clarity\n",
    "rfm_data.columns = ['CustomerID', 'Recency', 'Frequency', 'Monetary']\n",
    "\n",
    "# Define quartiles for each RFM metric\n",
    "quantiles = rfm_data.quantile(q=[0.25, 0.50, 0.75])\n",
    "\n",
    "# Function to segment customers based on RFM scores\n",
    "def rfm_segment(row):\n",
    "    r_score = 4 if row['Recency'] <= quantiles.loc[0.25, 'Recency'] else 3 if row['Recency'] <= quantiles.loc[0.50, 'Recency'] else 2 if row['Recency'] <= quantiles.loc[0.75, 'Recency'] else 1\n",
    "    f_score = 4 if row['Frequency'] >= quantiles.loc[0.75, 'Frequency'] else 3 if row['Frequency'] >= quantiles.loc[0.50, 'Frequency'] else 2 if row['Frequency'] >= quantiles.loc[0.25, 'Frequency'] else 1\n",
    "    m_score = 4 if row['Monetary'] >= quantiles.loc[0.75, 'Monetary'] else 3 if row['Monetary'] >= quantiles.loc[0.50, 'Monetary'] else 2 if row['Monetary'] >= quantiles.loc[0.25, 'Monetary'] else 1\n",
    "    return str(r_score) + str(f_score) + str(m_score)\n",
    "\n",
    "# Apply segmentation function to create RFM segments\n",
    "rfm_data['RFM_Segment'] = rfm_data.apply(rfm_segment, axis=1)\n",
    "\n",
    "# Define segment labels based on RFM scores\n",
    "segment_labels = {\n",
    "    '111': 'Standard',\n",
    "    '112': 'Standard',\n",
    "    '113': 'Standard',\n",
    "    '114': 'Standard',\n",
    "    '121': 'Standard',\n",
    "    '122': 'Standard',\n",
    "    '123': 'Standard',\n",
    "    '124': 'Standard',\n",
    "    '131': 'Standard',\n",
    "    '132': 'Standard',\n",
    "    '133': 'Standard',\n",
    "    '134': 'Standard',\n",
    "    '141': 'Standard',\n",
    "    '142': 'Standard',\n",
    "    '143': 'Standard',\n",
    "    '144': 'Standard',\n",
    "    '211': 'Silver',\n",
    "    '212': 'Silver',\n",
    "    '213': 'Silver',\n",
    "    '214': 'Silver',\n",
    "    '221': 'Silver',\n",
    "    '222': 'Silver',\n",
    "    '223': 'Silver',\n",
    "    '224': 'Silver',\n",
    "    '231': 'Silver',\n",
    "    '232': 'Silver',\n",
    "    '233': 'Silver',\n",
    "    '234': 'Silver',\n",
    "    '241': 'Silver',\n",
    "    '242': 'Silver',\n",
    "    '243': 'Silver',\n",
    "    '244': 'Silver',\n",
    "    '311': 'Gold',\n",
    "    '312': 'Gold',\n",
    "    '313': 'Gold',\n",
    "    '314': 'Gold',\n",
    "    '321': 'Gold',\n",
    "    '322': 'Gold',\n",
    "    '323': 'Gold',\n",
    "    '324': 'Gold',\n",
    "    '331': 'Gold',\n",
    "    '332': 'Gold',\n",
    "    '333': 'Gold',\n",
    "    '334': 'Gold',\n",
    "    '341': 'Gold',\n",
    "    '342': 'Gold',\n",
    "    '343': 'Gold',\n",
    "    '344': 'Gold',\n",
    "    '411': 'Premium',\n",
    "    '412': 'Premium',\n",
    "    '413': 'Premium',\n",
    "    '414': 'Premium',\n",
    "    '421': 'Premium',\n",
    "    '422': 'Premium',\n",
    "    '423': 'Premium',\n",
    "    '424': 'Premium',\n",
    "    '431': 'Premium',\n",
    "    '432': 'Premium',\n",
    "    '433': 'Premium',\n",
    "    '434': 'Premium',\n",
    "    '441': 'Premium',\n",
    "    '442': 'Premium',\n",
    "    '443': 'Premium',\n",
    "    '444': 'Premium'\n",
    "}\n",
    "\n",
    "# Fill missing segment labels based on RFM segment codes with a default label ('Other')\n",
    "rfm_data['RFM_Segment_Label'] = rfm_data['RFM_Segment'].map(segment_labels).fillna('Other')\n",
    "\n",
    "# Display RFM segments with filled segment labels\n",
    "print(\"RFM Segments with Filled Segment Labels:\")\n",
    "print(rfm_data[['CustomerID', 'RFM_Segment', 'RFM_Segment_Label']])\n"
   ]
  },
  {
   "cell_type": "code",
   "execution_count": 79,
   "id": "45f8baf4",
   "metadata": {},
   "outputs": [
    {
     "data": {
      "text/plain": [
       "RFM_Segment_Label\n",
       "Gold        372\n",
       "Premium     369\n",
       "Standard    366\n",
       "Silver      361\n",
       "Name: count, dtype: int64"
      ]
     },
     "execution_count": 79,
     "metadata": {},
     "output_type": "execute_result"
    }
   ],
   "source": [
    "rfm_data['RFM_Segment_Label'].value_counts()"
   ]
  },
  {
   "cell_type": "code",
   "execution_count": 80,
   "id": "d992ef1f",
   "metadata": {},
   "outputs": [],
   "source": [
    "# Scientific (Using K-Means) & Understand the profiles. Define strategy for each segment."
   ]
  },
  {
   "cell_type": "code",
   "execution_count": 81,
   "id": "0fa02cec",
   "metadata": {},
   "outputs": [],
   "source": [
    "# Standardize RFM data\n",
    "scaler = StandardScaler()\n",
    "rfm_scaled = scaler.fit_transform(rfm_data[['Recency', 'Frequency', 'Monetary']])"
   ]
  },
  {
   "cell_type": "code",
   "execution_count": 82,
   "id": "a6c8c682",
   "metadata": {},
   "outputs": [
    {
     "data": {
      "image/png": "[encoded data removed]",
      "text/plain": [
       "<Figure size 640x480 with 1 Axes>"
      ]
     },
     "metadata": {},
     "output_type": "display_data"
    }
   ],
   "source": [
    "# Determine optimal number of clusters using the Elbow Method\n",
    "wcss = []\n",
    "for i in range(1, 11):\n",
    "    kmeans = KMeans(n_clusters=i, init='k-means++', random_state=42)\n",
    "    kmeans.fit(rfm_scaled)\n",
    "    wcss.append(kmeans.inertia_)\n",
    "\n",
    "# Plot the Elbow Method\n",
    "plt.plot(range(1, 11), wcss, marker='o', linestyle='--')\n",
    "plt.title('Elbow Method')\n",
    "plt.xlabel('Number of Clusters')\n",
    "plt.ylabel('WCSS')\n",
    "plt.show()"
   ]
  },
  {
   "cell_type": "code",
   "execution_count": 83,
   "id": "e69d7bf7",
   "metadata": {},
   "outputs": [],
   "source": [
    "# Based on the elbow method, choose the optimal number of clusters (e.g., k=4)\n",
    "\n",
    "# Apply K-Means clustering\n",
    "kmeans = KMeans(n_clusters=4, init='k-means++', random_state=42)\n",
    "rfm_data['Cluster'] = kmeans.fit_predict(rfm_scaled)"
   ]
  },
  {
   "cell_type": "code",
   "execution_count": 84,
   "id": "cf8c193e",
   "metadata": {},
   "outputs": [
    {
     "data": {
      "text/plain": [
       "0       0\n",
       "1       1\n",
       "2       0\n",
       "3       0\n",
       "4       0\n",
       "       ..\n",
       "1463    3\n",
       "1464    0\n",
       "1465    3\n",
       "1466    0\n",
       "1467    1\n",
       "Name: Cluster, Length: 1468, dtype: int32"
      ]
     },
     "execution_count": 84,
     "metadata": {},
     "output_type": "execute_result"
    }
   ],
   "source": [
    "rfm_data['Cluster']"
   ]
  },
  {
   "cell_type": "code",
   "execution_count": 85,
   "id": "d5e7f03d",
   "metadata": {},
   "outputs": [
    {
     "name": "stdout",
     "output_type": "stream",
     "text": [
      "Cluster Centers:\n",
      "      Recency    Frequency      Monetary\n",
      "0   77.746053   314.788158 -5.639960e+05\n",
      "1   82.915584  1437.642857 -2.809709e+06\n",
      "2   29.200000  7012.200000 -1.518764e+07\n",
      "3  254.679417   245.885246 -4.215019e+05\n"
     ]
    }
   ],
   "source": [
    "# Display cluster centroids\n",
    "cluster_centers = scaler.inverse_transform(kmeans.cluster_centers_)\n",
    "print(\"Cluster Centers:\")\n",
    "print(pd.DataFrame(cluster_centers, columns=['Recency', 'Frequency', 'Monetary']))"
   ]
  },
  {
   "cell_type": "code",
   "execution_count": 86,
   "id": "44f94fb1",
   "metadata": {},
   "outputs": [
    {
     "name": "stdout",
     "output_type": "stream",
     "text": [
      "\n",
      "Cluster Assignments and Strategies:\n"
     ]
    },
    {
     "data": {
      "text/html": [
       "<div>\n",
       "<style scoped>\n",
       "    .dataframe tbody tr th:only-of-type {\n",
       "        vertical-align: middle;\n",
       "    }\n",
       "\n",
       "    .dataframe tbody tr th {\n",
       "        vertical-align: top;\n",
       "    }\n",
       "\n",
       "    .dataframe thead th {\n",
       "        text-align: right;\n",
       "    }\n",
       "</style>\n",
       "<table border=\"1\" class=\"dataframe\">\n",
       "  <thead>\n",
       "    <tr style=\"text-align: right;\">\n",
       "      <th></th>\n",
       "      <th>CustomerID</th>\n",
       "      <th>Cluster</th>\n",
       "      <th>Cluster_Strategy</th>\n",
       "    </tr>\n",
       "  </thead>\n",
       "  <tbody>\n",
       "    <tr>\n",
       "      <th>0</th>\n",
       "      <td>12346</td>\n",
       "      <td>0</td>\n",
       "      <td>Strategy for Cluster 0</td>\n",
       "    </tr>\n",
       "    <tr>\n",
       "      <th>1</th>\n",
       "      <td>12347</td>\n",
       "      <td>1</td>\n",
       "      <td>Strategy for Cluster 1</td>\n",
       "    </tr>\n",
       "    <tr>\n",
       "      <th>2</th>\n",
       "      <td>12348</td>\n",
       "      <td>0</td>\n",
       "      <td>Strategy for Cluster 0</td>\n",
       "    </tr>\n",
       "    <tr>\n",
       "      <th>3</th>\n",
       "      <td>12350</td>\n",
       "      <td>0</td>\n",
       "      <td>Strategy for Cluster 0</td>\n",
       "    </tr>\n",
       "    <tr>\n",
       "      <th>4</th>\n",
       "      <td>12356</td>\n",
       "      <td>0</td>\n",
       "      <td>Strategy for Cluster 0</td>\n",
       "    </tr>\n",
       "    <tr>\n",
       "      <th>...</th>\n",
       "      <td>...</td>\n",
       "      <td>...</td>\n",
       "      <td>...</td>\n",
       "    </tr>\n",
       "    <tr>\n",
       "      <th>1463</th>\n",
       "      <td>18259</td>\n",
       "      <td>3</td>\n",
       "      <td>Strategy for Cluster 3</td>\n",
       "    </tr>\n",
       "    <tr>\n",
       "      <th>1464</th>\n",
       "      <td>18260</td>\n",
       "      <td>0</td>\n",
       "      <td>Strategy for Cluster 0</td>\n",
       "    </tr>\n",
       "    <tr>\n",
       "      <th>1465</th>\n",
       "      <td>18269</td>\n",
       "      <td>3</td>\n",
       "      <td>Strategy for Cluster 3</td>\n",
       "    </tr>\n",
       "    <tr>\n",
       "      <th>1466</th>\n",
       "      <td>18277</td>\n",
       "      <td>0</td>\n",
       "      <td>Strategy for Cluster 0</td>\n",
       "    </tr>\n",
       "    <tr>\n",
       "      <th>1467</th>\n",
       "      <td>18283</td>\n",
       "      <td>1</td>\n",
       "      <td>Strategy for Cluster 1</td>\n",
       "    </tr>\n",
       "  </tbody>\n",
       "</table>\n",
       "<p>1468 rows × 3 columns</p>\n",
       "</div>"
      ],
      "text/plain": [
       "      CustomerID  Cluster        Cluster_Strategy\n",
       "0          12346        0  Strategy for Cluster 0\n",
       "1          12347        1  Strategy for Cluster 1\n",
       "2          12348        0  Strategy for Cluster 0\n",
       "3          12350        0  Strategy for Cluster 0\n",
       "4          12356        0  Strategy for Cluster 0\n",
       "...          ...      ...                     ...\n",
       "1463       18259        3  Strategy for Cluster 3\n",
       "1464       18260        0  Strategy for Cluster 0\n",
       "1465       18269        3  Strategy for Cluster 3\n",
       "1466       18277        0  Strategy for Cluster 0\n",
       "1467       18283        1  Strategy for Cluster 1\n",
       "\n",
       "[1468 rows x 3 columns]"
      ]
     },
     "execution_count": 86,
     "metadata": {},
     "output_type": "execute_result"
    }
   ],
   "source": [
    "# Define strategies for each segment\n",
    "cluster_strategies = {\n",
    "    0: 'Strategy for Cluster 0',\n",
    "    1: 'Strategy for Cluster 1',\n",
    "    2: 'Strategy for Cluster 2',\n",
    "    3: 'Strategy for Cluster 3'\n",
    "}\n",
    "\n",
    "# Map cluster strategies to segments\n",
    "rfm_data['Cluster_Strategy'] = rfm_data['Cluster'].map(cluster_strategies)\n",
    "\n",
    "# Display cluster assignments and corresponding strategies\n",
    "print(\"\\nCluster Assignments and Strategies:\")\n",
    "rfm_data[['CustomerID', 'Cluster', 'Cluster_Strategy']]\n"
   ]
  },
  {
   "cell_type": "markdown",
   "id": "388d3b3a",
   "metadata": {},
   "source": [
    "# 4. Predicting Customer Lifetime Value (Low Value/Medium Value/High Value)"
   ]
  },
  {
   "cell_type": "code",
   "execution_count": 87,
   "id": "39f15838",
   "metadata": {},
   "outputs": [],
   "source": [
    "# First define dependent variable with categories low value, medium value, high value using customer revenue.\n",
    "# AnalytixLabs, Website: www.analytixlabs.co.in Email: info@analytixlabs.co.in phone: +91-88021-73069\n",
    "# Then perform Classification model."
   ]
  },
  {
   "cell_type": "code",
   "execution_count": 88,
   "id": "573eba02",
   "metadata": {},
   "outputs": [],
   "source": [
    "# Define dependent variable categories based on customer revenue\n",
    "# Example: divide customers into quartiles based on revenue\n",
    "rfm_data['CLV_Category'] = pd.qcut(rfm_data['Monetary'], q=3, labels=['Low Value', 'Medium Value', 'High Value'])\n",
    "\n",
    "# Define features and target variable\n",
    "X = rfm_data[['Recency', 'Frequency', 'Monetary']]  # Example features\n",
    "y = rfm_data['CLV_Category']"
   ]
  },
  {
   "cell_type": "code",
   "execution_count": 89,
   "id": "956ef3ee",
   "metadata": {},
   "outputs": [
    {
     "data": {
      "text/plain": [
       "0         High Value\n",
       "1          Low Value\n",
       "2       Medium Value\n",
       "3       Medium Value\n",
       "4       Medium Value\n",
       "            ...     \n",
       "1463      High Value\n",
       "1464    Medium Value\n",
       "1465      High Value\n",
       "1466      High Value\n",
       "1467       Low Value\n",
       "Name: CLV_Category, Length: 1468, dtype: category\n",
       "Categories (3, object): ['Low Value' < 'Medium Value' < 'High Value']"
      ]
     },
     "execution_count": 89,
     "metadata": {},
     "output_type": "execute_result"
    }
   ],
   "source": [
    "y"
   ]
  },
  {
   "cell_type": "code",
   "execution_count": 90,
   "id": "c3ce6268",
   "metadata": {},
   "outputs": [],
   "source": [
    "# Split data into train and test sets\n",
    "X_train, X_test, y_train, y_test = train_test_split(X, y, test_size=0.2, random_state=42)"
   ]
  },
  {
   "cell_type": "code",
   "execution_count": 91,
   "id": "a45de67b",
   "metadata": {},
   "outputs": [
    {
     "data": {
      "text/html": [
       "<style>#sk-container-id-1 {color: black;}#sk-container-id-1 pre{padding: 0;}#sk-container-id-1 div.sk-toggleable {background-color: white;}#sk-container-id-1 label.sk-toggleable__label {cursor: pointer;display: block;width: 100%;margin-bottom: 0;padding: 0.3em;box-sizing: border-box;text-align: center;}#sk-container-id-1 label.sk-toggleable__label-arrow:before {content: \"▸\";float: left;margin-right: 0.25em;color: #696969;}#sk-container-id-1 label.sk-toggleable__label-arrow:hover:before {color: black;}#sk-container-id-1 div.sk-estimator:hover label.sk-toggleable__label-arrow:before {color: black;}#sk-container-id-1 div.sk-toggleable__content {max-height: 0;max-width: 0;overflow: hidden;text-align: left;background-color: #f0f8ff;}#sk-container-id-1 div.sk-toggleable__content pre {margin: 0.2em;color: black;border-radius: 0.25em;background-color: #f0f8ff;}#sk-container-id-1 input.sk-toggleable__control:checked~div.sk-toggleable__content {max-height: 200px;max-width: 100%;overflow: auto;}#sk-container-id-1 input.sk-toggleable__control:checked~label.sk-toggleable__label-arrow:before {content: \"▾\";}#sk-container-id-1 div.sk-estimator input.sk-toggleable__control:checked~label.sk-toggleable__label {background-color: #d4ebff;}#sk-container-id-1 div.sk-label input.sk-toggleable__control:checked~label.sk-toggleable__label {background-color: #d4ebff;}#sk-container-id-1 input.sk-hidden--visually {border: 0;clip: rect(1px 1px 1px 1px);clip: rect(1px, 1px, 1px, 1px);height: 1px;margin: -1px;overflow: hidden;padding: 0;position: absolute;width: 1px;}#sk-container-id-1 div.sk-estimator {font-family: monospace;background-color: #f0f8ff;border: 1px dotted black;border-radius: 0.25em;box-sizing: border-box;margin-bottom: 0.5em;}#sk-container-id-1 div.sk-estimator:hover {background-color: #d4ebff;}#sk-container-id-1 div.sk-parallel-item::after {content: \"\";width: 100%;border-bottom: 1px solid gray;flex-grow: 1;}#sk-container-id-1 div.sk-label:hover label.sk-toggleable__label {background-color: #d4ebff;}#sk-container-id-1 div.sk-serial::before {content: \"\";position: absolute;border-left: 1px solid gray;box-sizing: border-box;top: 0;bottom: 0;left: 50%;z-index: 0;}#sk-container-id-1 div.sk-serial {display: flex;flex-direction: column;align-items: center;background-color: white;padding-right: 0.2em;padding-left: 0.2em;position: relative;}#sk-container-id-1 div.sk-item {position: relative;z-index: 1;}#sk-container-id-1 div.sk-parallel {display: flex;align-items: stretch;justify-content: center;background-color: white;position: relative;}#sk-container-id-1 div.sk-item::before, #sk-container-id-1 div.sk-parallel-item::before {content: \"\";position: absolute;border-left: 1px solid gray;box-sizing: border-box;top: 0;bottom: 0;left: 50%;z-index: -1;}#sk-container-id-1 div.sk-parallel-item {display: flex;flex-direction: column;z-index: 1;position: relative;background-color: white;}#sk-container-id-1 div.sk-parallel-item:first-child::after {align-self: flex-end;width: 50%;}#sk-container-id-1 div.sk-parallel-item:last-child::after {align-self: flex-start;width: 50%;}#sk-container-id-1 div.sk-parallel-item:only-child::after {width: 0;}#sk-container-id-1 div.sk-dashed-wrapped {border: 1px dashed gray;margin: 0 0.4em 0.5em 0.4em;box-sizing: border-box;padding-bottom: 0.4em;background-color: white;}#sk-container-id-1 div.sk-label label {font-family: monospace;font-weight: bold;display: inline-block;line-height: 1.2em;}#sk-container-id-1 div.sk-label-container {text-align: center;}#sk-container-id-1 div.sk-container {/* jupyter's `normalize.less` sets `[hidden] { display: none; }` but bootstrap.min.css set `[hidden] { display: none !important; }` so we also need the `!important` here to be able to override the default hidden behavior on the sphinx rendered scikit-learn.org. See: https://github.com/scikit-learn/scikit-learn/issues/21755 */display: inline-block !important;position: relative;}#sk-container-id-1 div.sk-text-repr-fallback {display: none;}</style><div id=\"sk-container-id-1\" class=\"sk-top-container\"><div class=\"sk-text-repr-fallback\"><pre>RandomForestClassifier(max_depth=5, n_estimators=50, random_state=42)</pre><b>In a Jupyter environment, please rerun this cell to show the HTML representation or trust the notebook. <br />On GitHub, the HTML representation is unable to render, please try loading this page with nbviewer.org.</b></div><div class=\"sk-container\" hidden><div class=\"sk-item\"><div class=\"sk-estimator sk-toggleable\"><input class=\"sk-toggleable__control sk-hidden--visually\" id=\"sk-estimator-id-1\" type=\"checkbox\" checked><label for=\"sk-estimator-id-1\" class=\"sk-toggleable__label sk-toggleable__label-arrow\">RandomForestClassifier</label><div class=\"sk-toggleable__content\"><pre>RandomForestClassifier(max_depth=5, n_estimators=50, random_state=42)</pre></div></div></div></div></div>"
      ],
      "text/plain": [
       "RandomForestClassifier(max_depth=5, n_estimators=50, random_state=42)"
      ]
     },
     "execution_count": 91,
     "metadata": {},
     "output_type": "execute_result"
    }
   ],
   "source": [
    "# Initialize and train a classification model (e.g., Random Forest)\n",
    "clf = RandomForestClassifier(n_estimators=50, random_state=42,max_depth=5)\n",
    "clf.fit(X_train, y_train)"
   ]
  },
  {
   "cell_type": "code",
   "execution_count": 92,
   "id": "574be011",
   "metadata": {},
   "outputs": [
    {
     "name": "stdout",
     "output_type": "stream",
     "text": [
      "Classification Report:\n",
      "              precision    recall  f1-score   support\n",
      "\n",
      "  High Value       1.00      1.00      1.00        92\n",
      "   Low Value       1.00      1.00      1.00        97\n",
      "Medium Value       1.00      1.00      1.00       105\n",
      "\n",
      "    accuracy                           1.00       294\n",
      "   macro avg       1.00      1.00      1.00       294\n",
      "weighted avg       1.00      1.00      1.00       294\n",
      "\n"
     ]
    }
   ],
   "source": [
    "# Make predictions on the test set\n",
    "y_pred = clf.predict(X_test)\n",
    "\n",
    "# Evaluate model performance\n",
    "print(\"Classification Report:\")\n",
    "print(classification_report(y_test, y_pred))"
   ]
  },
  {
   "cell_type": "code",
   "execution_count": 93,
   "id": "8c7e87bb",
   "metadata": {},
   "outputs": [
    {
     "name": "stdout",
     "output_type": "stream",
     "text": [
      "Feature Importances:\n",
      "           Importance\n",
      "Recency      0.040763\n",
      "Frequency    0.334895\n",
      "Monetary     0.624341\n"
     ]
    }
   ],
   "source": [
    "# You can further analyze feature importance to understand which features contribute most to CLV prediction\n",
    "feature_importances = pd.DataFrame(clf.feature_importances_, index=X.columns, columns=['Importance'])\n",
    "print(\"Feature Importances:\")\n",
    "print(feature_importances)"
   ]
  },
  {
   "cell_type": "markdown",
   "id": "1625ee5c",
   "metadata": {},
   "source": [
    "# 5. Cross-Selling (Which products are selling together)"
   ]
  },
  {
   "cell_type": "code",
   "execution_count": 94,
   "id": "d31e4ba1",
   "metadata": {},
   "outputs": [],
   "source": [
    "# You can perform exploratory analysis & market basket analysis to understand which of items can be bundled together."
   ]
  },
  {
   "cell_type": "code",
   "execution_count": 95,
   "id": "52242ac6",
   "metadata": {},
   "outputs": [],
   "source": [
    "# Convert transactional data into binary format\n",
    "basket = pd.get_dummies(merged_data.set_index('Transaction_ID')['Product_Description']).groupby('Transaction_ID').max()\n",
    "\n",
    "# Convert counts to binary (1 if count > 0, else 0)\n",
    "basket[basket > 0] = 1"
   ]
  },
  {
   "cell_type": "code",
   "execution_count": 96,
   "id": "5eacfe77",
   "metadata": {},
   "outputs": [],
   "source": [
    "# Apply Apriori algorithm to find frequent itemsets\n",
    "frequent_itemsets = apriori(basket, min_support=0.001, use_colnames=True)\n",
    "\n",
    "# Generate association rules\n",
    "rules = association_rules(frequent_itemsets, metric=\"lift\", min_threshold=1)"
   ]
  },
  {
   "cell_type": "code",
   "execution_count": 97,
   "id": "ff057b11",
   "metadata": {
    "scrolled": true
   },
   "outputs": [
    {
     "name": "stdout",
     "output_type": "stream",
     "text": [
      "Top Cross-Selling Rules:\n"
     ]
    },
    {
     "data": {
      "text/html": [
       "<div>\n",
       "<style scoped>\n",
       "    .dataframe tbody tr th:only-of-type {\n",
       "        vertical-align: middle;\n",
       "    }\n",
       "\n",
       "    .dataframe tbody tr th {\n",
       "        vertical-align: top;\n",
       "    }\n",
       "\n",
       "    .dataframe thead th {\n",
       "        text-align: right;\n",
       "    }\n",
       "</style>\n",
       "<table border=\"1\" class=\"dataframe\">\n",
       "  <thead>\n",
       "    <tr style=\"text-align: right;\">\n",
       "      <th></th>\n",
       "      <th>antecedents</th>\n",
       "      <th>consequents</th>\n",
       "      <th>antecedent support</th>\n",
       "      <th>consequent support</th>\n",
       "      <th>support</th>\n",
       "      <th>confidence</th>\n",
       "      <th>lift</th>\n",
       "      <th>leverage</th>\n",
       "      <th>conviction</th>\n",
       "      <th>zhangs_metric</th>\n",
       "    </tr>\n",
       "  </thead>\n",
       "  <tbody>\n",
       "    <tr>\n",
       "      <th>401</th>\n",
       "      <td>(Nest Detect - USA)</td>\n",
       "      <td>(Nest Secure Alarm System Starter Pack - USA)</td>\n",
       "      <td>0.002953</td>\n",
       "      <td>0.019872</td>\n",
       "      <td>0.001756</td>\n",
       "      <td>0.594595</td>\n",
       "      <td>29.921958</td>\n",
       "      <td>0.001697</td>\n",
       "      <td>2.417650</td>\n",
       "      <td>0.969442</td>\n",
       "    </tr>\n",
       "    <tr>\n",
       "      <th>447</th>\n",
       "      <td>(Android Sticker Sheet Ultra Removable, YouTub...</td>\n",
       "      <td>(Google Laptop and Cell Phone Stickers)</td>\n",
       "      <td>0.001117</td>\n",
       "      <td>0.032162</td>\n",
       "      <td>0.001037</td>\n",
       "      <td>0.928571</td>\n",
       "      <td>28.872120</td>\n",
       "      <td>0.001002</td>\n",
       "      <td>13.549739</td>\n",
       "      <td>0.966444</td>\n",
       "    </tr>\n",
       "    <tr>\n",
       "      <th>453</th>\n",
       "      <td>(Google Doodle Decal, YouTube Custom Decals)</td>\n",
       "      <td>(Google Laptop and Cell Phone Stickers)</td>\n",
       "      <td>0.001516</td>\n",
       "      <td>0.032162</td>\n",
       "      <td>0.001077</td>\n",
       "      <td>0.710526</td>\n",
       "      <td>22.092432</td>\n",
       "      <td>0.001029</td>\n",
       "      <td>3.343442</td>\n",
       "      <td>0.956185</td>\n",
       "    </tr>\n",
       "  </tbody>\n",
       "</table>\n",
       "</div>"
      ],
      "text/plain": [
       "                                           antecedents  \\\n",
       "401                                (Nest Detect - USA)   \n",
       "447  (Android Sticker Sheet Ultra Removable, YouTub...   \n",
       "453       (Google Doodle Decal, YouTube Custom Decals)   \n",
       "\n",
       "                                       consequents  antecedent support  \\\n",
       "401  (Nest Secure Alarm System Starter Pack - USA)            0.002953   \n",
       "447        (Google Laptop and Cell Phone Stickers)            0.001117   \n",
       "453        (Google Laptop and Cell Phone Stickers)            0.001516   \n",
       "\n",
       "     consequent support   support  confidence       lift  leverage  \\\n",
       "401            0.019872  0.001756    0.594595  29.921958  0.001697   \n",
       "447            0.032162  0.001037    0.928571  28.872120  0.001002   \n",
       "453            0.032162  0.001077    0.710526  22.092432  0.001029   \n",
       "\n",
       "     conviction  zhangs_metric  \n",
       "401    2.417650       0.969442  \n",
       "447   13.549739       0.966444  \n",
       "453    3.343442       0.956185  "
      ]
     },
     "execution_count": 97,
     "metadata": {},
     "output_type": "execute_result"
    }
   ],
   "source": [
    "# Filter rules for cross-selling opportunities\n",
    "cross_selling_rules = rules[(rules['lift'] > 1) & (rules['confidence'] > 0.5)]\n",
    "\n",
    "# Sort rules by lift or confidence for interpretation\n",
    "cross_selling_rules = cross_selling_rules.sort_values(by=['lift'], ascending=False)\n",
    "\n",
    "# Print top cross-selling rules\n",
    "print(\"Top Cross-Selling Rules:\")\n",
    "cross_selling_rules.head()\n"
   ]
  },
  {
   "cell_type": "markdown",
   "id": "77178e0d",
   "metadata": {},
   "source": [
    "# 6. Predicting Next Purchase Day(How soon each customer can visit the store (0-30 days, 30-60 days, 60-90 days, 90+ days)"
   ]
  },
  {
   "cell_type": "code",
   "execution_count": 98,
   "id": "8186063f",
   "metadata": {},
   "outputs": [],
   "source": [
    "# For this, we need create dependent variable at customer level (average days per one \n",
    "# transaction for only repeat customers and divide into groups 0-30 days, 30-60 days, 60-90 days and 90+ days) \n",
    "# then build classification model to predict next purchase of given customer."
   ]
  },
  {
   "cell_type": "code",
   "execution_count": 99,
   "id": "8b1ab061",
   "metadata": {},
   "outputs": [],
   "source": [
    "import pandas as pd\n",
    "\n",
    "# Assuming avg_days_between_purchases contains the average days between purchases for all customers\n",
    "avg_days_between_purchases = merged_data.groupby('CustomerID')['Transaction_month'].diff().mean()\n",
    "\n",
    "# Repeat the average days between purchases for each customer\n",
    "avg_days_between_purchases_series = pd.Series([avg_days_between_purchases] * len(merged_data))\n",
    "\n",
    "# Create dependent variable at customer level\n",
    "# Categorize the average days into different groups\n",
    "bins = [-1, 30, 60, 90, float('inf')]\n",
    "labels = ['0-30 days', '30-60 days', '60-90 days', '90+ days']\n",
    "merged_data['next_purchase_range'] = pd.cut(avg_days_between_purchases_series, bins=bins, labels=labels)\n",
    "\n",
    "# Now next_purchase_range contains the group for each customer based on the average days between purchases\n"
   ]
  },
  {
   "cell_type": "code",
   "execution_count": 100,
   "id": "f18c8e4b",
   "metadata": {},
   "outputs": [],
   "source": [
    "numeric_columns = merged_data.select_dtypes(include=['int', 'float'])"
   ]
  },
  {
   "cell_type": "code",
   "execution_count": 101,
   "id": "235146ea",
   "metadata": {
    "scrolled": true
   },
   "outputs": [
    {
     "data": {
      "text/plain": [
       "CustomerID             0\n",
       "Transaction_ID         0\n",
       "Quantity               0\n",
       "Avg_Price              0\n",
       "Delivery_Charges       0\n",
       "Tenure_Months          0\n",
       "GST                    0\n",
       "Discount_pct         400\n",
       "Transaction_month      0\n",
       "Offline_Spend          0\n",
       "Online_Spend           0\n",
       "Invoice_Value        400\n",
       "dtype: int64"
      ]
     },
     "execution_count": 101,
     "metadata": {},
     "output_type": "execute_result"
    }
   ],
   "source": [
    "numeric_columns.isnull().sum()"
   ]
  },
  {
   "cell_type": "code",
   "execution_count": 102,
   "id": "571ca15e",
   "metadata": {},
   "outputs": [],
   "source": [
    "numeric_columns.drop(columns=['Discount_pct','Invoice_Value'], inplace=True)"
   ]
  },
  {
   "cell_type": "code",
   "execution_count": 103,
   "id": "e313d5f8",
   "metadata": {},
   "outputs": [
    {
     "name": "stdout",
     "output_type": "stream",
     "text": [
      "Accuracy: 1.0\n"
     ]
    }
   ],
   "source": [
    "from sklearn.metrics import accuracy_score\n",
    "# Assuming X contains the features and y contains the target variable (next_purchase_range)\n",
    "X = numeric_columns\n",
    "y = merged_data['next_purchase_range']\n",
    "\n",
    "\n",
    "# Split data into train and test sets\n",
    "X_train, X_test, y_train, y_test = train_test_split(X, y, test_size=0.2, random_state=42)\n",
    "\n",
    "# Initialize and train the Random Forest Classifier\n",
    "classifier = RandomForestClassifier()\n",
    "classifier.fit(X_train, y_train)\n",
    "\n",
    "# Predict next purchase day\n",
    "predictions = classifier.predict(X_test)\n",
    "\n",
    "# Evaluate model performance\n",
    "accuracy = accuracy_score(y_test, predictions)\n",
    "print(\"Accuracy:\", accuracy)\n"
   ]
  },
  {
   "cell_type": "markdown",
   "id": "599dec6d",
   "metadata": {},
   "source": [
    "# 7. Perform cohort analysis by defining below cohorts"
   ]
  },
  {
   "cell_type": "code",
   "execution_count": 104,
   "id": "dbb03630",
   "metadata": {},
   "outputs": [],
   "source": [
    "# Customers who started in each month and understand their behaviour\n",
    "# Which Month cohort has maximum retention?"
   ]
  },
  {
   "cell_type": "code",
   "execution_count": 105,
   "id": "ae50e666",
   "metadata": {},
   "outputs": [],
   "source": [
    "# the month and year of the first purchase for each customer\n",
    "merged_data['First_Purchase_Month'] = merged_data.groupby('CustomerID')['Transaction_Date'].transform('min').dt.to_period('M')\n",
    "\n",
    "# Group customers into cohorts based on their first purchase month\n",
    "cohorts = merged_data.groupby(['First_Purchase_Month', 'Transaction_month']).agg({'CustomerID': 'nunique'}).reset_index()"
   ]
  },
  {
   "cell_type": "code",
   "execution_count": 106,
   "id": "8839c516",
   "metadata": {},
   "outputs": [
    {
     "data": {
      "text/html": [
       "<div>\n",
       "<style scoped>\n",
       "    .dataframe tbody tr th:only-of-type {\n",
       "        vertical-align: middle;\n",
       "    }\n",
       "\n",
       "    .dataframe tbody tr th {\n",
       "        vertical-align: top;\n",
       "    }\n",
       "\n",
       "    .dataframe thead th {\n",
       "        text-align: right;\n",
       "    }\n",
       "</style>\n",
       "<table border=\"1\" class=\"dataframe\">\n",
       "  <thead>\n",
       "    <tr style=\"text-align: right;\">\n",
       "      <th></th>\n",
       "      <th>First_Purchase_Month</th>\n",
       "      <th>Transaction_month</th>\n",
       "      <th>CustomerID</th>\n",
       "    </tr>\n",
       "  </thead>\n",
       "  <tbody>\n",
       "    <tr>\n",
       "      <th>0</th>\n",
       "      <td>2019-01</td>\n",
       "      <td>1</td>\n",
       "      <td>215</td>\n",
       "    </tr>\n",
       "    <tr>\n",
       "      <th>1</th>\n",
       "      <td>2019-01</td>\n",
       "      <td>2</td>\n",
       "      <td>13</td>\n",
       "    </tr>\n",
       "    <tr>\n",
       "      <th>2</th>\n",
       "      <td>2019-01</td>\n",
       "      <td>3</td>\n",
       "      <td>24</td>\n",
       "    </tr>\n",
       "    <tr>\n",
       "      <th>3</th>\n",
       "      <td>2019-01</td>\n",
       "      <td>4</td>\n",
       "      <td>34</td>\n",
       "    </tr>\n",
       "    <tr>\n",
       "      <th>4</th>\n",
       "      <td>2019-01</td>\n",
       "      <td>5</td>\n",
       "      <td>23</td>\n",
       "    </tr>\n",
       "    <tr>\n",
       "      <th>...</th>\n",
       "      <td>...</td>\n",
       "      <td>...</td>\n",
       "      <td>...</td>\n",
       "    </tr>\n",
       "    <tr>\n",
       "      <th>73</th>\n",
       "      <td>2019-10</td>\n",
       "      <td>11</td>\n",
       "      <td>6</td>\n",
       "    </tr>\n",
       "    <tr>\n",
       "      <th>74</th>\n",
       "      <td>2019-10</td>\n",
       "      <td>12</td>\n",
       "      <td>4</td>\n",
       "    </tr>\n",
       "    <tr>\n",
       "      <th>75</th>\n",
       "      <td>2019-11</td>\n",
       "      <td>11</td>\n",
       "      <td>68</td>\n",
       "    </tr>\n",
       "    <tr>\n",
       "      <th>76</th>\n",
       "      <td>2019-11</td>\n",
       "      <td>12</td>\n",
       "      <td>7</td>\n",
       "    </tr>\n",
       "    <tr>\n",
       "      <th>77</th>\n",
       "      <td>2019-12</td>\n",
       "      <td>12</td>\n",
       "      <td>106</td>\n",
       "    </tr>\n",
       "  </tbody>\n",
       "</table>\n",
       "<p>78 rows × 3 columns</p>\n",
       "</div>"
      ],
      "text/plain": [
       "   First_Purchase_Month  Transaction_month  CustomerID\n",
       "0               2019-01                  1         215\n",
       "1               2019-01                  2          13\n",
       "2               2019-01                  3          24\n",
       "3               2019-01                  4          34\n",
       "4               2019-01                  5          23\n",
       "..                  ...                ...         ...\n",
       "73              2019-10                 11           6\n",
       "74              2019-10                 12           4\n",
       "75              2019-11                 11          68\n",
       "76              2019-11                 12           7\n",
       "77              2019-12                 12         106\n",
       "\n",
       "[78 rows x 3 columns]"
      ]
     },
     "execution_count": 106,
     "metadata": {},
     "output_type": "execute_result"
    }
   ],
   "source": [
    "cohorts"
   ]
  },
  {
   "cell_type": "code",
   "execution_count": 107,
   "id": "d20de37a",
   "metadata": {},
   "outputs": [],
   "source": [
    "# Which Month cohort has maximum retention?"
   ]
  },
  {
   "cell_type": "code",
   "execution_count": 108,
   "id": "088ba90b",
   "metadata": {},
   "outputs": [],
   "source": [
    "initial_customer_count = cohorts.groupby('First_Purchase_Month')['CustomerID'].transform('nunique')\n",
    "cohorts['Retention_Rate'] = cohorts['CustomerID'] / initial_customer_count\n"
   ]
  },
  {
   "cell_type": "code",
   "execution_count": 109,
   "id": "9c773d30",
   "metadata": {},
   "outputs": [
    {
     "data": {
      "text/plain": [
       "0      21.500000\n",
       "1       1.300000\n",
       "2       2.400000\n",
       "3       3.400000\n",
       "4       2.300000\n",
       "         ...    \n",
       "73      2.000000\n",
       "74      1.333333\n",
       "75     34.000000\n",
       "76      3.500000\n",
       "77    106.000000\n",
       "Name: Retention_Rate, Length: 78, dtype: float64"
      ]
     },
     "execution_count": 109,
     "metadata": {},
     "output_type": "execute_result"
    }
   ],
   "source": [
    "cohorts['Retention_Rate']"
   ]
  },
  {
   "cell_type": "code",
   "execution_count": 110,
   "id": "e4998f63",
   "metadata": {},
   "outputs": [
    {
     "data": {
      "image/png": "[encoded data removed]",
      "text/plain": [
       "<Figure size 1000x800 with 2 Axes>"
      ]
     },
     "metadata": {},
     "output_type": "display_data"
    }
   ],
   "source": [
    "# Pivot the cohort table to visualize the retention rates\n",
    "cohort_pivot = cohorts.pivot_table(index='First_Purchase_Month', columns='Transaction_month', values='Retention_Rate')\n",
    "\n",
    "# Plot the retention rates\n",
    "plt.figure(figsize=(10, 8))\n",
    "plt.title('Retention Rates by Cohort')\n",
    "sns.heatmap(cohort_pivot, annot=True, cmap='Blues', fmt='.0%')\n",
    "plt.xlabel('Months Since First Purchase')\n",
    "plt.ylabel('First Purchase Month')\n",
    "plt.show()"
   ]
  },
  {
   "cell_type": "code",
   "execution_count": null,
   "id": "017cd050",
   "metadata": {},
   "outputs": [],
   "source": []
  }
 ],
 "metadata": {
  "kernelspec": {
   "display_name": "Python 3 (ipykernel)",
   "language": "python",
   "name": "python3"
  },
  "language_info": {
   "codemirror_mode": {
    "name": "ipython",
    "version": 3
   },
   "file_extension": ".py",
   "mimetype": "text/x-python",
   "name": "python",
   "nbconvert_exporter": "python",
   "pygments_lexer": "ipython3",
   "version": "3.11.5"
  }
 },
 "nbformat": 4,
 "nbformat_minor": 5
}
